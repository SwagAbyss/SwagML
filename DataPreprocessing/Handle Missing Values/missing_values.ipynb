{
 "cells": [
  {
   "cell_type": "code",
   "execution_count": 82,
   "metadata": {},
   "outputs": [],
   "source": [
    "import pandas as pd\n",
    "import numpy as np\n",
    "import matplotlib.pyplot as plt"
   ]
  },
  {
   "cell_type": "code",
   "execution_count": 62,
   "metadata": {},
   "outputs": [],
   "source": [
    "data = pd.read_csv('../data/loan_data.csv')\n",
    "data1 = pd.read_csv('../data/Titanic-Dataset.csv')"
   ]
  },
  {
   "cell_type": "code",
   "execution_count": 31,
   "metadata": {},
   "outputs": [
    {
     "name": "stdout",
     "output_type": "stream",
     "text": [
      "<class 'pandas.core.frame.DataFrame'>\n",
      "RangeIndex: 614 entries, 0 to 613\n",
      "Data columns (total 13 columns):\n",
      " #   Column             Non-Null Count  Dtype  \n",
      "---  ------             --------------  -----  \n",
      " 0   Loan_ID            614 non-null    object \n",
      " 1   Gender             601 non-null    object \n",
      " 2   Married            611 non-null    object \n",
      " 3   Dependents         599 non-null    object \n",
      " 4   Education          614 non-null    object \n",
      " 5   Self_Employed      582 non-null    object \n",
      " 6   ApplicantIncome    614 non-null    int64  \n",
      " 7   CoapplicantIncome  614 non-null    float64\n",
      " 8   LoanAmount         592 non-null    float64\n",
      " 9   Loan_Amount_Term   600 non-null    float64\n",
      " 10  Credit_History     564 non-null    float64\n",
      " 11  Property_Area      614 non-null    object \n",
      " 12  Loan_Status        614 non-null    object \n",
      "dtypes: float64(4), int64(1), object(8)\n",
      "memory usage: 62.5+ KB\n"
     ]
    }
   ],
   "source": [
    "data.info()"
   ]
  },
  {
   "cell_type": "code",
   "execution_count": 63,
   "metadata": {},
   "outputs": [
    {
     "name": "stdout",
     "output_type": "stream",
     "text": [
      "<class 'pandas.core.frame.DataFrame'>\n",
      "RangeIndex: 891 entries, 0 to 890\n",
      "Data columns (total 12 columns):\n",
      " #   Column       Non-Null Count  Dtype  \n",
      "---  ------       --------------  -----  \n",
      " 0   PassengerId  891 non-null    int64  \n",
      " 1   Survived     891 non-null    int64  \n",
      " 2   Pclass       891 non-null    int64  \n",
      " 3   Name         891 non-null    object \n",
      " 4   Sex          891 non-null    object \n",
      " 5   Age          714 non-null    float64\n",
      " 6   SibSp        891 non-null    int64  \n",
      " 7   Parch        891 non-null    int64  \n",
      " 8   Ticket       891 non-null    object \n",
      " 9   Fare         891 non-null    float64\n",
      " 10  Cabin        204 non-null    object \n",
      " 11  Embarked     889 non-null    object \n",
      "dtypes: float64(2), int64(5), object(5)\n",
      "memory usage: 83.7+ KB\n"
     ]
    }
   ],
   "source": [
    "data1.info()"
   ]
  },
  {
   "cell_type": "code",
   "execution_count": 38,
   "metadata": {},
   "outputs": [
    {
     "name": "stdout",
     "output_type": "stream",
     "text": [
      "Gender, \t13, \tobject\n",
      "Married, \t3, \tobject\n",
      "Dependents, \t15, \tobject\n",
      "Self_Employed, \t32, \tobject\n",
      "LoanAmount, \t22, \tfloat64\n",
      "Loan_Amount_Term, \t14, \tfloat64\n",
      "Credit_History, \t50, \tfloat64\n"
     ]
    }
   ],
   "source": [
    "for column in data.columns:\n",
    "    if data[column].isna().any()==True:\n",
    "        print(f'{column}, \\t{data[column].isnull().sum()}, \\t{data[column].dtype}')\n",
    "    else:\n",
    "        ('There is no missing values present in this dataset')"
   ]
  },
  {
   "cell_type": "code",
   "execution_count": 69,
   "metadata": {},
   "outputs": [
    {
     "name": "stdout",
     "output_type": "stream",
     "text": [
      "Age, \t177, \tfloat64\n",
      "Cabin, \t687, \tobject\n",
      "Embarked, \t2, \tobject\n"
     ]
    }
   ],
   "source": [
    "for column in data1.columns:\n",
    "    if data1[column].isna().any()==True:\n",
    "        print(f'{column}, \\t{data1[column].isnull().sum()}, \\t{data1[column].dtype}')\n",
    "    else:\n",
    "        ('There is no missing values present in this dataset')"
   ]
  },
  {
   "attachments": {},
   "cell_type": "markdown",
   "metadata": {},
   "source": [
    "## __Three types of missing values__\n",
    "\n",
    "1. Missing completely at random (MCAR):\n",
    "- This is when the missingness of a value is unrelated to any other variable, including the value itself. \n",
    "- An example of MCAR could be missing data on a survey question about income where the respondents who didn't answer that question had the same income distribution as those who did answer.\n",
    "\n",
    "2. Missing at random (MAR):\n",
    "- This is when the missingness of a value is related to other observed variables, but not to the value itself. \n",
    "- An example of MAR could be missing data on a survey question about income where respondents who didn't answer that question had lower income levels but only because they were younger and just starting their careers, and younger people in general have lower incomes than older people.\n",
    "\n",
    "3. Missing not at random (MNAR):\n",
    "- This is when the missingness of a value is related to the value itself, and cannot be explained by any observed variables. - An example of MNAR could be missing data on a survey question about income where respondents who didn't answer that question had higher income levels and didn't want to reveal it."
   ]
  },
  {
   "attachments": {},
   "cell_type": "markdown",
   "metadata": {},
   "source": [
    "## __1. Don't handle Missing Values__"
   ]
  },
  {
   "attachments": {},
   "cell_type": "markdown",
   "metadata": {},
   "source": [
    "## __2. Mean Median Mode Imputation__"
   ]
  },
  {
   "attachments": {},
   "cell_type": "markdown",
   "metadata": {},
   "source": [
    "### using fillna() method in pandas\n",
    "\n",
    "`data[column_name].fillna(value='your_value', inplace=True)`"
   ]
  },
  {
   "attachments": {},
   "cell_type": "markdown",
   "metadata": {},
   "source": [
    "### mode imputation for categorical variable"
   ]
  },
  {
   "cell_type": "code",
   "execution_count": 50,
   "metadata": {},
   "outputs": [
    {
     "data": {
      "text/plain": [
       "0    Male\n",
       "Name: Gender, dtype: object"
      ]
     },
     "execution_count": 50,
     "metadata": {},
     "output_type": "execute_result"
    }
   ],
   "source": [
    "data['Gender'].mode()"
   ]
  },
  {
   "cell_type": "code",
   "execution_count": 53,
   "metadata": {},
   "outputs": [
    {
     "data": {
      "text/plain": [
       "0        Male\n",
       "1        Male\n",
       "2        Male\n",
       "3        Male\n",
       "4        Male\n",
       "        ...  \n",
       "609    Female\n",
       "610      Male\n",
       "611      Male\n",
       "612      Male\n",
       "613    Female\n",
       "Name: Gender, Length: 614, dtype: object"
      ]
     },
     "execution_count": 53,
     "metadata": {},
     "output_type": "execute_result"
    }
   ],
   "source": [
    "data['Gender'].fillna(value='Male')"
   ]
  },
  {
   "attachments": {},
   "cell_type": "markdown",
   "metadata": {},
   "source": [
    "### median imputation for categorical variable"
   ]
  },
  {
   "cell_type": "code",
   "execution_count": 86,
   "metadata": {},
   "outputs": [
    {
     "data": {
      "text/plain": [
       "<Axes: >"
      ]
     },
     "execution_count": 86,
     "metadata": {},
     "output_type": "execute_result"
    },
    {
     "data": {
      "image/png": "[encoded data removed]",
      "text/plain": [
       "<Figure size 600x400 with 1 Axes>"
      ]
     },
     "metadata": {},
     "output_type": "display_data"
    }
   ],
   "source": [
    "data1['Age'].plot(kind='box', figsize=(6, 4))"
   ]
  },
  {
   "cell_type": "code",
   "execution_count": null,
   "metadata": {},
   "outputs": [
    {
     "data": {
      "text/plain": [
       "<Axes: ylabel='Frequency'>"
      ]
     },
     "metadata": {},
     "output_type": "display_data"
    },
    {
     "data": {
      "image/png": "[encoded data removed]",
      "text/plain": [
       "<Figure size 640x480 with 1 Axes>"
      ]
     },
     "metadata": {},
     "output_type": "display_data"
    }
   ],
   "source": [
    "data1['Age'].plot(kind='hist')"
   ]
  },
  {
   "cell_type": "code",
   "execution_count": 70,
   "metadata": {},
   "outputs": [
    {
     "data": {
      "text/plain": [
       "28.0"
      ]
     },
     "execution_count": 70,
     "metadata": {},
     "output_type": "execute_result"
    }
   ],
   "source": [
    "data1['Age'].median()"
   ]
  },
  {
   "cell_type": "code",
   "execution_count": 73,
   "metadata": {},
   "outputs": [
    {
     "data": {
      "text/plain": [
       "0      22.0\n",
       "1      38.0\n",
       "2      26.0\n",
       "3      35.0\n",
       "4      35.0\n",
       "       ... \n",
       "886    27.0\n",
       "887    19.0\n",
       "888    28.0\n",
       "889    26.0\n",
       "890    32.0\n",
       "Name: Age, Length: 891, dtype: float64"
      ]
     },
     "execution_count": 73,
     "metadata": {},
     "output_type": "execute_result"
    }
   ],
   "source": [
    "data1['Age'].fillna(value=28.0)"
   ]
  },
  {
   "cell_type": "markdown",
   "metadata": {},
   "source": [
    "#### Median imputation Pros and Cons\n",
    "\n",
    "##### Pros:\n",
    "\n",
    "- Simple and easy to implement.\n",
    "- Less sensitive to outliers or extreme values than mean imputation, since it uses the middle value instead of the average.\n",
    "- Preserves the sample size and avoids bias in the median of the data.\n",
    "- Can be used for both continuous and categorical data (by converting the data to a numeric format).\n",
    "\n",
    "##### Cons:\n",
    "\n",
    "- Median imputation assumes that the data are missing completely at random (MCAR), which may not always be the case in practice.\n",
    "- Median imputation can distort the distribution of the data, especially if there are many missing values or if the data are heavily skewed.\n",
    "- Median imputation can lead to underestimation of the variance or standard deviation of the data, which can affect subsequent statistical analyses.\n",
    "- Median imputation can result in biased estimates and inaccurate results, especially if the missing data are not missing at random (MNAR)."
   ]
  },
  {
   "cell_type": "code",
   "execution_count": 89,
   "metadata": {},
   "outputs": [
    {
     "data": {
      "text/plain": [
       "<Axes: ylabel='Frequency'>"
      ]
     },
     "execution_count": 89,
     "metadata": {},
     "output_type": "execute_result"
    },
    {
     "data": {
      "image/png": "[encoded data removed]",
      "text/plain": [
       "<Figure size 640x480 with 1 Axes>"
      ]
     },
     "metadata": {},
     "output_type": "display_data"
    }
   ],
   "source": [
    "data['LoanAmount'].plot(kind='hist')"
   ]
  },
  {
   "cell_type": "code",
   "execution_count": 91,
   "metadata": {},
   "outputs": [
    {
     "data": {
      "text/plain": [
       "146.41"
      ]
     },
     "execution_count": 91,
     "metadata": {},
     "output_type": "execute_result"
    }
   ],
   "source": [
    "data['LoanAmount'].mean().round(2)"
   ]
  },
  {
   "cell_type": "code",
   "execution_count": null,
   "metadata": {},
   "outputs": [],
   "source": [
    "data['LoanAmount'].fillna(value=146.11)"
   ]
  },
  {
   "attachments": {},
   "cell_type": "markdown",
   "metadata": {},
   "source": [
    "#### Mean imputation Pros and Cons\n",
    "##### Pros:\n",
    "\n",
    "- Simple and easy to implement.\n",
    "- Preserves the sample size and avoids bias in the mean of the data.\n",
    "- Can be used for both continuous and categorical data (by converting the data to a numeric format).\n",
    "\n",
    "##### Cons:\n",
    "- Mean imputation assumes that the data are missing completely at random (MCAR), which may not always be the case in practice.\n",
    "- Mean imputation can distort the distribution of the data, especially if there are extreme values or outliers in the data.\n",
    "Mean imputation can lead to underestimation of the variance or standard deviation of the data, which can affect subsequent statistical analyses.\n",
    "- Mean imputation can result in biased estimates and inaccurate results, especially if the missing data are not missing at random (MNAR)."
   ]
  },
  {
   "attachments": {},
   "cell_type": "markdown",
   "metadata": {},
   "source": [
    "### Using sklearn library SimpleImputer method\n",
    "\n",
    "`missing_values = [np.nan, '?', 'missing_value']`\n",
    "`strategy = ['mean', 'mode', 'most_frequent']`\n",
    "\n",
    "`object_name = SimpleImputer(`\n",
    "\n",
    "    missing_values=choose one from the missing values list based on your dataset,\n",
    "    strategy=choose one from the missing values list based on your datatype of that column\n",
    "    )`\n",
    "    "
   ]
  },
  {
   "cell_type": "code",
   "execution_count": null,
   "metadata": {},
   "outputs": [],
   "source": [
    "from sklearn.impute import SimpleImputer\n",
    "\n",
    "object_impute1 = SimpleImputer(missing_values=np.nan, strategy='most_frequent')\n",
    "object_impute2 = SimpleImputer(missing_values=np.nan, strategy='constant', fill_value='Male')\n",
    "\n",
    "object_impute1.fit_transform(data[['Gender']])\n",
    "object_impute2.fit_transform(data[['Gender']])"
   ]
  },
  {
   "cell_type": "code",
   "execution_count": 99,
   "metadata": {},
   "outputs": [
    {
     "name": "stdout",
     "output_type": "stream",
     "text": [
      "done\n"
     ]
    }
   ],
   "source": [
    "mean_impute = SimpleImputer(missing_values=np.nan, strategy='mean')\n",
    "median_impute = SimpleImputer(missing_values=np.nan, strategy='median')\n",
    "\n",
    "mean_impute.fit_transform(data[['LoanAmount']]).round(2)\n",
    "\n",
    "median_impute.fit_transform(data1[['Age']]).astype('int64')\n",
    "\n",
    "print('done')"
   ]
  },
  {
   "cell_type": "code",
   "execution_count": null,
   "metadata": {},
   "outputs": [],
   "source": []
  }
 ],
 "metadata": {
  "kernelspec": {
   "display_name": "Python 3",
   "language": "python",
   "name": "python3"
  },
  "language_info": {
   "codemirror_mode": {
    "name": "ipython",
    "version": 3
   },
   "file_extension": ".py",
   "mimetype": "text/x-python",
   "name": "python",
   "nbconvert_exporter": "python",
   "pygments_lexer": "ipython3",
   "version": "3.10.9"
  },
  "orig_nbformat": 4
 },
 "nbformat": 4,
 "nbformat_minor": 2
}
