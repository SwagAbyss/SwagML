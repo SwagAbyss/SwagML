{
 "cells": [
  {
   "cell_type": "code",
   "execution_count": 2,
   "id": "85651860-90ae-4fdd-b399-114cf3ce0951",
   "metadata": {
    "ExecuteTime": {
     "end_time": "2023-02-09T13:15:24.764706Z",
     "start_time": "2023-02-09T13:15:22.229279Z"
    }
   },
   "outputs": [],
   "source": [
    "import numpy as np\n",
    "import pandas as pd\n",
    "import matplotlib.pyplot as plt\n",
    "import seaborn as sns\n",
    "import plotly.express as px\n",
    "import scipy\n",
    "sns.set_style('darkgrid')"
   ]
  },
  {
   "cell_type": "code",
   "execution_count": 14,
   "id": "9787fa1a-e660-47b0-a944-a1d8263f5e51",
   "metadata": {
    "ExecuteTime": {
     "end_time": "2023-02-09T13:19:20.364576Z",
     "start_time": "2023-02-09T13:19:20.327895Z"
    }
   },
   "outputs": [],
   "source": [
    "raw_data = pd.read_csv('../data/housing.csv')"
   ]
  },
  {
   "cell_type": "code",
   "execution_count": 12,
   "id": "bdccd0cf",
   "metadata": {
    "ExecuteTime": {
     "end_time": "2023-02-09T13:18:17.698713Z",
     "start_time": "2023-02-09T13:18:17.523486Z"
    }
   },
   "outputs": [],
   "source": [
    "print(raw_data).head()"
   ]
  },
  {
   "cell_type": "code",
   "execution_count": 13,
   "id": "cd06c43e",
   "metadata": {
    "ExecuteTime": {
     "end_time": "2023-02-09T13:18:30.499063Z",
     "start_time": "2023-02-09T13:18:30.470085Z"
    }
   },
   "outputs": [],
   "source": [
    "raw_data.info()"
   ]
  },
  {
   "cell_type": "code",
   "execution_count": null,
   "id": "5b980cff",
   "metadata": {},
   "outputs": [],
   "source": []
  }
 ],
 "metadata": {
  "kernelspec": {
   "display_name": "Python 3 (ipykernel)",
   "language": "python",
   "name": "python3"
  },
  "language_info": {
   "codemirror_mode": {
    "name": "ipython",
    "version": 3
   },
   "file_extension": ".py",
   "mimetype": "text/x-python",
   "name": "python",
   "nbconvert_exporter": "python",
   "pygments_lexer": "ipython3",
   "version": "3.9.13"
  },
  "toc": {
   "base_numbering": 1,
   "nav_menu": {},
   "number_sections": true,
   "sideBar": true,
   "skip_h1_title": false,
   "title_cell": "Table of Contents",
   "title_sidebar": "Contents",
   "toc_cell": false,
   "toc_position": {},
   "toc_section_display": true,
   "toc_window_display": false
  },
  "varInspector": {
   "cols": {
    "lenName": 16,
    "lenType": 16,
    "lenVar": 40
   },
   "kernels_config": {
    "python": {
     "delete_cmd_postfix": "",
     "delete_cmd_prefix": "del ",
     "library": "var_list.py",
     "varRefreshCmd": "print(var_dic_list())"
    },
    "r": {
     "delete_cmd_postfix": ") ",
     "delete_cmd_prefix": "rm(",
     "library": "var_list.r",
     "varRefreshCmd": "cat(var_dic_list()) "
    }
   },
   "types_to_exclude": [
    "module",
    "function",
    "builtin_function_or_method",
    "instance",
    "_Feature"
   ],
   "window_display": false
  }
 },
 "nbformat": 4,
 "nbformat_minor": 5
}
