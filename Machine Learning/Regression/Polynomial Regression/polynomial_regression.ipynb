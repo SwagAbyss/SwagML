{
 "cells": [
  {
   "attachments": {},
   "cell_type": "markdown",
   "metadata": {},
   "source": [
    "## __What is Polynomial Regression?Explain with one example?__ "
   ]
  },
  {
   "attachments": {},
   "cell_type": "markdown",
   "metadata": {},
   "source": [
    "**Polynomial Regression** is a type of regression analysis in which the relationship between the independent variable x and the dependent variable y is modeled as an nth degree polynomial. \n",
    "\n",
    "### Here's an example to explain the steps involved in Polynomial Regression:\n",
    "\n",
    "__1. Gather and prepare the data:__\n",
    "\n",
    "- The first step is to gather the data that you want to use for building the regression model. \n",
    "- The data should include the independent variable x and the dependent variable y. \n",
    "- It is also important to make sure that the data is clean and ready for analysis.\n",
    "\n",
    "__2. Transform the independent variable:__ \n",
    "- In Polynomial Regression, the independent variable x is transformed into its higher-degree polynomial form. \n",
    "- For example, if you have a 1st degree polynomial regression, x is transformed into x, x^2, x^3 and so on.\n",
    "\n",
    "__3. Fit the polynomial regression model:__ \n",
    "- The transformed independent variable is then used to fit the polynomial regression model. \n",
    "- The model is trained using the data and the coefficients (such as β0, β1, β2, etc.) of the polynomial equation are estimated.\n",
    "\n",
    "__4. Evaluate the model:__ \n",
    "- The model is then evaluated using metrics such as mean squared error, R-squared, and adjusted R-squared. \n",
    "- These metrics help to determine the goodness of fit of the model and its accuracy in predicting the dependent variable.\n",
    "\n",
    "__5. Make predictions:__ \n",
    "- Once the model has been trained and evaluated, it can be used to make predictions on new data. \n",
    "- The independent variable is transformed and the predicted dependent variable is calculated using the estimated coefficients.\n",
    "\n",
    "#### Example:\n",
    "\n",
    "*Consider a scenario where we want to predict the height of a person based on their weight. The data consists of the weight and height of 50 individuals. In this example, we'll use a 2nd degree polynomial regression to model the relationship between weight and height.*\n",
    "\n",
    "- Step 1: Gather and prepare the data\n",
    "- Step 2: Transform the independent variable: weight is transformed into weight, weight^2\n",
    "- Step 3: Fit the polynomial regression model: The transformed independent variable is used to fit the polynomial regression model and the coefficients of the polynomial equation are estimated.\n",
    "- Step 4: Evaluate the model: The model is evaluated using metrics such as mean squared error, R-squared, and adjusted R-squared.\n",
    "- Step 5: Make predictions: The model is used to predict the height of a new individual based on their weight.\n",
    "\n",
    "Another example, \n",
    "- consider a scenario where we want to predict the height of a person based on their weight. \n",
    "- In a linear regression model, the relationship between weight and height would be modeled as a straight line.\n",
    "- However, in reality, the relationship between weight and height is more like a curved line. \n",
    "- We can use polynomial regression to model this non-linear relationship. The model could look like:\n",
    "\n",
    "- `height = β0 + β1 * weight + β2 * weight^2 + β3 * weight^3`\n",
    "\n",
    "- where β0, β1, β2 and β3 are the coefficients that need to be estimated from the data."
   ]
  }
 ],
 "metadata": {
  "language_info": {
   "name": "python"
  },
  "orig_nbformat": 4
 },
 "nbformat": 4,
 "nbformat_minor": 2
}
