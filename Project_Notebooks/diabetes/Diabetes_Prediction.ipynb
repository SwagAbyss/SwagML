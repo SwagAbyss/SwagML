{
 "cells": [
  {
   "cell_type": "markdown",
   "id": "ce430b37",
   "metadata": {},
   "source": [
    "# __Import Packages__"
   ]
  },
  {
   "cell_type": "code",
   "execution_count": 2,
   "id": "c1de4bf2",
   "metadata": {},
   "outputs": [
    {
     "name": "stdout",
     "output_type": "stream",
     "text": [
      "Collecting pandas\n",
      "  Using cached pandas-1.5.3-cp39-cp39-macosx_11_0_arm64.whl (11.0 MB)\n",
      "Requirement already satisfied: numpy in /Users/swag/miniconda3/envs/tensorflow/lib/python3.9/site-packages (1.23.5)\n",
      "Collecting scikit-learn\n",
      "  Using cached scikit_learn-1.2.1-cp39-cp39-macosx_12_0_arm64.whl (8.4 MB)\n",
      "Collecting pytz>=2020.1\n",
      "  Using cached pytz-2022.7.1-py2.py3-none-any.whl (499 kB)\n",
      "Requirement already satisfied: python-dateutil>=2.8.1 in /Users/swag/miniconda3/envs/tensorflow/lib/python3.9/site-packages (from pandas) (2.8.2)\n",
      "Collecting threadpoolctl>=2.0.0\n",
      "  Using cached threadpoolctl-3.1.0-py3-none-any.whl (14 kB)\n",
      "Requirement already satisfied: scipy>=1.3.2 in /Users/swag/miniconda3/envs/tensorflow/lib/python3.9/site-packages (from scikit-learn) (1.10.0)\n",
      "Collecting joblib>=1.1.1\n",
      "  Using cached joblib-1.2.0-py3-none-any.whl (297 kB)\n",
      "Requirement already satisfied: six>=1.5 in /Users/swag/miniconda3/envs/tensorflow/lib/python3.9/site-packages (from python-dateutil>=2.8.1->pandas) (1.16.0)\n",
      "Installing collected packages: pytz, threadpoolctl, joblib, scikit-learn, pandas\n",
      "Successfully installed joblib-1.2.0 pandas-1.5.3 pytz-2022.7.1 scikit-learn-1.2.1 threadpoolctl-3.1.0\n",
      "Note: you may need to restart the kernel to use updated packages.\n"
     ]
    }
   ],
   "source": [
    "%pip install pandas numpy scikit-learn"
   ]
  },
  {
   "cell_type": "code",
   "execution_count": 3,
   "id": "7e8e7b72",
   "metadata": {},
   "outputs": [],
   "source": [
    "import numpy as np\n",
    "import pandas as pd\n",
    "from sklearn.preprocessing import StandardScaler\n",
    "from sklearn.model_selection import train_test_split\n",
    "from sklearn import svm\n",
    "from sklearn.metrics import accuracy_score\n",
    "import warnings\n",
    "warnings.filterwarnings('ignore')"
   ]
  },
  {
   "cell_type": "markdown",
   "id": "2a18ff98",
   "metadata": {},
   "source": [
    "# __Data Collection and Analysis__"
   ]
  },
  {
   "cell_type": "code",
   "execution_count": 4,
   "id": "c6e5b745",
   "metadata": {},
   "outputs": [],
   "source": [
    "# loading the dataset into a pandas dataframe\n",
    "data = pd.read_csv('./diabetes.csv')"
   ]
  },
  {
   "cell_type": "code",
   "execution_count": 5,
   "id": "ed99c754",
   "metadata": {},
   "outputs": [
    {
     "data": {
      "text/html": [
       "<div>\n",
       "<style scoped>\n",
       "    .dataframe tbody tr th:only-of-type {\n",
       "        vertical-align: middle;\n",
       "    }\n",
       "\n",
       "    .dataframe tbody tr th {\n",
       "        vertical-align: top;\n",
       "    }\n",
       "\n",
       "    .dataframe thead th {\n",
       "        text-align: right;\n",
       "    }\n",
       "</style>\n",
       "<table border=\"1\" class=\"dataframe\">\n",
       "  <thead>\n",
       "    <tr style=\"text-align: right;\">\n",
       "      <th></th>\n",
       "      <th>Pregnancies</th>\n",
       "      <th>Glucose</th>\n",
       "      <th>BloodPressure</th>\n",
       "      <th>SkinThickness</th>\n",
       "      <th>Insulin</th>\n",
       "      <th>BMI</th>\n",
       "      <th>DiabetesPedigreeFunction</th>\n",
       "      <th>Age</th>\n",
       "      <th>Outcome</th>\n",
       "    </tr>\n",
       "  </thead>\n",
       "  <tbody>\n",
       "    <tr>\n",
       "      <th>0</th>\n",
       "      <td>6</td>\n",
       "      <td>148</td>\n",
       "      <td>72</td>\n",
       "      <td>35</td>\n",
       "      <td>0</td>\n",
       "      <td>33.6</td>\n",
       "      <td>0.627</td>\n",
       "      <td>50</td>\n",
       "      <td>1</td>\n",
       "    </tr>\n",
       "    <tr>\n",
       "      <th>1</th>\n",
       "      <td>1</td>\n",
       "      <td>85</td>\n",
       "      <td>66</td>\n",
       "      <td>29</td>\n",
       "      <td>0</td>\n",
       "      <td>26.6</td>\n",
       "      <td>0.351</td>\n",
       "      <td>31</td>\n",
       "      <td>0</td>\n",
       "    </tr>\n",
       "    <tr>\n",
       "      <th>2</th>\n",
       "      <td>8</td>\n",
       "      <td>183</td>\n",
       "      <td>64</td>\n",
       "      <td>0</td>\n",
       "      <td>0</td>\n",
       "      <td>23.3</td>\n",
       "      <td>0.672</td>\n",
       "      <td>32</td>\n",
       "      <td>1</td>\n",
       "    </tr>\n",
       "    <tr>\n",
       "      <th>3</th>\n",
       "      <td>1</td>\n",
       "      <td>89</td>\n",
       "      <td>66</td>\n",
       "      <td>23</td>\n",
       "      <td>94</td>\n",
       "      <td>28.1</td>\n",
       "      <td>0.167</td>\n",
       "      <td>21</td>\n",
       "      <td>0</td>\n",
       "    </tr>\n",
       "    <tr>\n",
       "      <th>4</th>\n",
       "      <td>0</td>\n",
       "      <td>137</td>\n",
       "      <td>40</td>\n",
       "      <td>35</td>\n",
       "      <td>168</td>\n",
       "      <td>43.1</td>\n",
       "      <td>2.288</td>\n",
       "      <td>33</td>\n",
       "      <td>1</td>\n",
       "    </tr>\n",
       "  </tbody>\n",
       "</table>\n",
       "</div>"
      ],
      "text/plain": [
       "   Pregnancies  Glucose  BloodPressure  SkinThickness  Insulin   BMI  \\\n",
       "0            6      148             72             35        0  33.6   \n",
       "1            1       85             66             29        0  26.6   \n",
       "2            8      183             64              0        0  23.3   \n",
       "3            1       89             66             23       94  28.1   \n",
       "4            0      137             40             35      168  43.1   \n",
       "\n",
       "   DiabetesPedigreeFunction  Age  Outcome  \n",
       "0                     0.627   50        1  \n",
       "1                     0.351   31        0  \n",
       "2                     0.672   32        1  \n",
       "3                     0.167   21        0  \n",
       "4                     2.288   33        1  "
      ]
     },
     "execution_count": 5,
     "metadata": {},
     "output_type": "execute_result"
    }
   ],
   "source": [
    "# first five rows of the dataset\n",
    "data.head()"
   ]
  },
  {
   "cell_type": "code",
   "execution_count": 6,
   "id": "c6196ca8",
   "metadata": {},
   "outputs": [
    {
     "data": {
      "text/plain": [
       "(768, 9)"
      ]
     },
     "execution_count": 6,
     "metadata": {},
     "output_type": "execute_result"
    }
   ],
   "source": [
    "# No.of rows and columns in this dataset\n",
    "data.shape"
   ]
  },
  {
   "cell_type": "code",
   "execution_count": 7,
   "id": "2ab8c9ee",
   "metadata": {
    "scrolled": true
   },
   "outputs": [
    {
     "data": {
      "text/html": [
       "<div>\n",
       "<style scoped>\n",
       "    .dataframe tbody tr th:only-of-type {\n",
       "        vertical-align: middle;\n",
       "    }\n",
       "\n",
       "    .dataframe tbody tr th {\n",
       "        vertical-align: top;\n",
       "    }\n",
       "\n",
       "    .dataframe thead th {\n",
       "        text-align: right;\n",
       "    }\n",
       "</style>\n",
       "<table border=\"1\" class=\"dataframe\">\n",
       "  <thead>\n",
       "    <tr style=\"text-align: right;\">\n",
       "      <th></th>\n",
       "      <th>Pregnancies</th>\n",
       "      <th>Glucose</th>\n",
       "      <th>BloodPressure</th>\n",
       "      <th>SkinThickness</th>\n",
       "      <th>Insulin</th>\n",
       "      <th>BMI</th>\n",
       "      <th>DiabetesPedigreeFunction</th>\n",
       "      <th>Age</th>\n",
       "      <th>Outcome</th>\n",
       "    </tr>\n",
       "  </thead>\n",
       "  <tbody>\n",
       "    <tr>\n",
       "      <th>count</th>\n",
       "      <td>768.000000</td>\n",
       "      <td>768.000000</td>\n",
       "      <td>768.000000</td>\n",
       "      <td>768.000000</td>\n",
       "      <td>768.000000</td>\n",
       "      <td>768.000000</td>\n",
       "      <td>768.000000</td>\n",
       "      <td>768.000000</td>\n",
       "      <td>768.000000</td>\n",
       "    </tr>\n",
       "    <tr>\n",
       "      <th>mean</th>\n",
       "      <td>3.845052</td>\n",
       "      <td>120.894531</td>\n",
       "      <td>69.105469</td>\n",
       "      <td>20.536458</td>\n",
       "      <td>79.799479</td>\n",
       "      <td>31.992578</td>\n",
       "      <td>0.471876</td>\n",
       "      <td>33.240885</td>\n",
       "      <td>0.348958</td>\n",
       "    </tr>\n",
       "    <tr>\n",
       "      <th>std</th>\n",
       "      <td>3.369578</td>\n",
       "      <td>31.972618</td>\n",
       "      <td>19.355807</td>\n",
       "      <td>15.952218</td>\n",
       "      <td>115.244002</td>\n",
       "      <td>7.884160</td>\n",
       "      <td>0.331329</td>\n",
       "      <td>11.760232</td>\n",
       "      <td>0.476951</td>\n",
       "    </tr>\n",
       "    <tr>\n",
       "      <th>min</th>\n",
       "      <td>0.000000</td>\n",
       "      <td>0.000000</td>\n",
       "      <td>0.000000</td>\n",
       "      <td>0.000000</td>\n",
       "      <td>0.000000</td>\n",
       "      <td>0.000000</td>\n",
       "      <td>0.078000</td>\n",
       "      <td>21.000000</td>\n",
       "      <td>0.000000</td>\n",
       "    </tr>\n",
       "    <tr>\n",
       "      <th>25%</th>\n",
       "      <td>1.000000</td>\n",
       "      <td>99.000000</td>\n",
       "      <td>62.000000</td>\n",
       "      <td>0.000000</td>\n",
       "      <td>0.000000</td>\n",
       "      <td>27.300000</td>\n",
       "      <td>0.243750</td>\n",
       "      <td>24.000000</td>\n",
       "      <td>0.000000</td>\n",
       "    </tr>\n",
       "    <tr>\n",
       "      <th>50%</th>\n",
       "      <td>3.000000</td>\n",
       "      <td>117.000000</td>\n",
       "      <td>72.000000</td>\n",
       "      <td>23.000000</td>\n",
       "      <td>30.500000</td>\n",
       "      <td>32.000000</td>\n",
       "      <td>0.372500</td>\n",
       "      <td>29.000000</td>\n",
       "      <td>0.000000</td>\n",
       "    </tr>\n",
       "    <tr>\n",
       "      <th>75%</th>\n",
       "      <td>6.000000</td>\n",
       "      <td>140.250000</td>\n",
       "      <td>80.000000</td>\n",
       "      <td>32.000000</td>\n",
       "      <td>127.250000</td>\n",
       "      <td>36.600000</td>\n",
       "      <td>0.626250</td>\n",
       "      <td>41.000000</td>\n",
       "      <td>1.000000</td>\n",
       "    </tr>\n",
       "    <tr>\n",
       "      <th>max</th>\n",
       "      <td>17.000000</td>\n",
       "      <td>199.000000</td>\n",
       "      <td>122.000000</td>\n",
       "      <td>99.000000</td>\n",
       "      <td>846.000000</td>\n",
       "      <td>67.100000</td>\n",
       "      <td>2.420000</td>\n",
       "      <td>81.000000</td>\n",
       "      <td>1.000000</td>\n",
       "    </tr>\n",
       "  </tbody>\n",
       "</table>\n",
       "</div>"
      ],
      "text/plain": [
       "       Pregnancies     Glucose  BloodPressure  SkinThickness     Insulin  \\\n",
       "count   768.000000  768.000000     768.000000     768.000000  768.000000   \n",
       "mean      3.845052  120.894531      69.105469      20.536458   79.799479   \n",
       "std       3.369578   31.972618      19.355807      15.952218  115.244002   \n",
       "min       0.000000    0.000000       0.000000       0.000000    0.000000   \n",
       "25%       1.000000   99.000000      62.000000       0.000000    0.000000   \n",
       "50%       3.000000  117.000000      72.000000      23.000000   30.500000   \n",
       "75%       6.000000  140.250000      80.000000      32.000000  127.250000   \n",
       "max      17.000000  199.000000     122.000000      99.000000  846.000000   \n",
       "\n",
       "              BMI  DiabetesPedigreeFunction         Age     Outcome  \n",
       "count  768.000000                768.000000  768.000000  768.000000  \n",
       "mean    31.992578                  0.471876   33.240885    0.348958  \n",
       "std      7.884160                  0.331329   11.760232    0.476951  \n",
       "min      0.000000                  0.078000   21.000000    0.000000  \n",
       "25%     27.300000                  0.243750   24.000000    0.000000  \n",
       "50%     32.000000                  0.372500   29.000000    0.000000  \n",
       "75%     36.600000                  0.626250   41.000000    1.000000  \n",
       "max     67.100000                  2.420000   81.000000    1.000000  "
      ]
     },
     "execution_count": 7,
     "metadata": {},
     "output_type": "execute_result"
    }
   ],
   "source": [
    "# statistical measures of the dataset\n",
    "data.describe()"
   ]
  },
  {
   "cell_type": "code",
   "execution_count": 8,
   "id": "41db06b7",
   "metadata": {},
   "outputs": [
    {
     "data": {
      "text/plain": [
       "0    500\n",
       "1    268\n",
       "Name: Outcome, dtype: int64"
      ]
     },
     "execution_count": 8,
     "metadata": {},
     "output_type": "execute_result"
    }
   ],
   "source": [
    "# distribution of the target data\n",
    "data['Outcome'].value_counts()"
   ]
  },
  {
   "cell_type": "markdown",
   "id": "68e2f042",
   "metadata": {},
   "source": [
    "0 ---> Non_Diabetic\n",
    "1 ---> Diabetic"
   ]
  },
  {
   "cell_type": "code",
   "execution_count": 9,
   "id": "f1ffc015",
   "metadata": {
    "scrolled": true
   },
   "outputs": [
    {
     "data": {
      "text/html": [
       "<div>\n",
       "<style scoped>\n",
       "    .dataframe tbody tr th:only-of-type {\n",
       "        vertical-align: middle;\n",
       "    }\n",
       "\n",
       "    .dataframe tbody tr th {\n",
       "        vertical-align: top;\n",
       "    }\n",
       "\n",
       "    .dataframe thead th {\n",
       "        text-align: right;\n",
       "    }\n",
       "</style>\n",
       "<table border=\"1\" class=\"dataframe\">\n",
       "  <thead>\n",
       "    <tr style=\"text-align: right;\">\n",
       "      <th></th>\n",
       "      <th>Pregnancies</th>\n",
       "      <th>Glucose</th>\n",
       "      <th>BloodPressure</th>\n",
       "      <th>SkinThickness</th>\n",
       "      <th>Insulin</th>\n",
       "      <th>BMI</th>\n",
       "      <th>DiabetesPedigreeFunction</th>\n",
       "      <th>Age</th>\n",
       "    </tr>\n",
       "    <tr>\n",
       "      <th>Outcome</th>\n",
       "      <th></th>\n",
       "      <th></th>\n",
       "      <th></th>\n",
       "      <th></th>\n",
       "      <th></th>\n",
       "      <th></th>\n",
       "      <th></th>\n",
       "      <th></th>\n",
       "    </tr>\n",
       "  </thead>\n",
       "  <tbody>\n",
       "    <tr>\n",
       "      <th>0</th>\n",
       "      <td>3.298000</td>\n",
       "      <td>109.980000</td>\n",
       "      <td>68.184000</td>\n",
       "      <td>19.664000</td>\n",
       "      <td>68.792000</td>\n",
       "      <td>30.304200</td>\n",
       "      <td>0.429734</td>\n",
       "      <td>31.190000</td>\n",
       "    </tr>\n",
       "    <tr>\n",
       "      <th>1</th>\n",
       "      <td>4.865672</td>\n",
       "      <td>141.257463</td>\n",
       "      <td>70.824627</td>\n",
       "      <td>22.164179</td>\n",
       "      <td>100.335821</td>\n",
       "      <td>35.142537</td>\n",
       "      <td>0.550500</td>\n",
       "      <td>37.067164</td>\n",
       "    </tr>\n",
       "  </tbody>\n",
       "</table>\n",
       "</div>"
      ],
      "text/plain": [
       "         Pregnancies     Glucose  BloodPressure  SkinThickness     Insulin  \\\n",
       "Outcome                                                                      \n",
       "0           3.298000  109.980000      68.184000      19.664000   68.792000   \n",
       "1           4.865672  141.257463      70.824627      22.164179  100.335821   \n",
       "\n",
       "               BMI  DiabetesPedigreeFunction        Age  \n",
       "Outcome                                                  \n",
       "0        30.304200                  0.429734  31.190000  \n",
       "1        35.142537                  0.550500  37.067164  "
      ]
     },
     "execution_count": 9,
     "metadata": {},
     "output_type": "execute_result"
    }
   ],
   "source": [
    "data.groupby(by=['Outcome']).mean()"
   ]
  },
  {
   "cell_type": "markdown",
   "id": "08b7ae98",
   "metadata": {},
   "source": [
    "# __Data Preprocessing__"
   ]
  },
  {
   "cell_type": "code",
   "execution_count": 10,
   "id": "7ff4bb86",
   "metadata": {},
   "outputs": [],
   "source": [
    "# seperating the data into features and target\n",
    "X = data.iloc[:, :-1]\n",
    "y = data.iloc[:, -1]"
   ]
  },
  {
   "cell_type": "code",
   "execution_count": 11,
   "id": "ba550967",
   "metadata": {},
   "outputs": [
    {
     "data": {
      "text/html": [
       "<div>\n",
       "<style scoped>\n",
       "    .dataframe tbody tr th:only-of-type {\n",
       "        vertical-align: middle;\n",
       "    }\n",
       "\n",
       "    .dataframe tbody tr th {\n",
       "        vertical-align: top;\n",
       "    }\n",
       "\n",
       "    .dataframe thead th {\n",
       "        text-align: right;\n",
       "    }\n",
       "</style>\n",
       "<table border=\"1\" class=\"dataframe\">\n",
       "  <thead>\n",
       "    <tr style=\"text-align: right;\">\n",
       "      <th></th>\n",
       "      <th>Pregnancies</th>\n",
       "      <th>Glucose</th>\n",
       "      <th>BloodPressure</th>\n",
       "      <th>SkinThickness</th>\n",
       "      <th>Insulin</th>\n",
       "      <th>BMI</th>\n",
       "      <th>DiabetesPedigreeFunction</th>\n",
       "      <th>Age</th>\n",
       "    </tr>\n",
       "  </thead>\n",
       "  <tbody>\n",
       "    <tr>\n",
       "      <th>0</th>\n",
       "      <td>6</td>\n",
       "      <td>148</td>\n",
       "      <td>72</td>\n",
       "      <td>35</td>\n",
       "      <td>0</td>\n",
       "      <td>33.6</td>\n",
       "      <td>0.627</td>\n",
       "      <td>50</td>\n",
       "    </tr>\n",
       "    <tr>\n",
       "      <th>1</th>\n",
       "      <td>1</td>\n",
       "      <td>85</td>\n",
       "      <td>66</td>\n",
       "      <td>29</td>\n",
       "      <td>0</td>\n",
       "      <td>26.6</td>\n",
       "      <td>0.351</td>\n",
       "      <td>31</td>\n",
       "    </tr>\n",
       "    <tr>\n",
       "      <th>2</th>\n",
       "      <td>8</td>\n",
       "      <td>183</td>\n",
       "      <td>64</td>\n",
       "      <td>0</td>\n",
       "      <td>0</td>\n",
       "      <td>23.3</td>\n",
       "      <td>0.672</td>\n",
       "      <td>32</td>\n",
       "    </tr>\n",
       "    <tr>\n",
       "      <th>3</th>\n",
       "      <td>1</td>\n",
       "      <td>89</td>\n",
       "      <td>66</td>\n",
       "      <td>23</td>\n",
       "      <td>94</td>\n",
       "      <td>28.1</td>\n",
       "      <td>0.167</td>\n",
       "      <td>21</td>\n",
       "    </tr>\n",
       "    <tr>\n",
       "      <th>4</th>\n",
       "      <td>0</td>\n",
       "      <td>137</td>\n",
       "      <td>40</td>\n",
       "      <td>35</td>\n",
       "      <td>168</td>\n",
       "      <td>43.1</td>\n",
       "      <td>2.288</td>\n",
       "      <td>33</td>\n",
       "    </tr>\n",
       "  </tbody>\n",
       "</table>\n",
       "</div>"
      ],
      "text/plain": [
       "   Pregnancies  Glucose  BloodPressure  SkinThickness  Insulin   BMI  \\\n",
       "0            6      148             72             35        0  33.6   \n",
       "1            1       85             66             29        0  26.6   \n",
       "2            8      183             64              0        0  23.3   \n",
       "3            1       89             66             23       94  28.1   \n",
       "4            0      137             40             35      168  43.1   \n",
       "\n",
       "   DiabetesPedigreeFunction  Age  \n",
       "0                     0.627   50  \n",
       "1                     0.351   31  \n",
       "2                     0.672   32  \n",
       "3                     0.167   21  \n",
       "4                     2.288   33  "
      ]
     },
     "execution_count": 11,
     "metadata": {},
     "output_type": "execute_result"
    }
   ],
   "source": [
    "X.head()"
   ]
  },
  {
   "cell_type": "code",
   "execution_count": 12,
   "id": "ee430ee3",
   "metadata": {
    "scrolled": true
   },
   "outputs": [
    {
     "data": {
      "text/plain": [
       "0    1\n",
       "1    0\n",
       "2    1\n",
       "3    0\n",
       "4    1\n",
       "Name: Outcome, dtype: int64"
      ]
     },
     "execution_count": 12,
     "metadata": {},
     "output_type": "execute_result"
    }
   ],
   "source": [
    "y.head()"
   ]
  },
  {
   "cell_type": "markdown",
   "id": "d4331ee8",
   "metadata": {},
   "source": [
    "## __Data Standardization__"
   ]
  },
  {
   "cell_type": "code",
   "execution_count": 13,
   "id": "4948c610",
   "metadata": {},
   "outputs": [],
   "source": [
    "scale = StandardScaler()\n",
    "scaled_data = scale.fit_transform(X)"
   ]
  },
  {
   "cell_type": "markdown",
   "id": "265b50b3",
   "metadata": {},
   "source": [
    "## __Train and Test split__"
   ]
  },
  {
   "cell_type": "code",
   "execution_count": 14,
   "id": "794b2522",
   "metadata": {},
   "outputs": [],
   "source": [
    "X_train, X_test, y_train, y_test = train_test_split(\n",
    "    scaled_data, \n",
    "    y, \n",
    "    test_size=0.20, \n",
    "    stratify=y, \n",
    "    random_state=2\n",
    ")"
   ]
  },
  {
   "cell_type": "code",
   "execution_count": 15,
   "id": "60292265",
   "metadata": {
    "scrolled": true
   },
   "outputs": [
    {
     "name": "stdout",
     "output_type": "stream",
     "text": [
      "xtrain shape:  (614, 8)\n",
      "xtest shape:  (154, 8)\n",
      "ytrain shape:  (614,)\n",
      "ytest shape:  (154,)\n"
     ]
    }
   ],
   "source": [
    "print('xtrain shape: ', X_train.shape)\n",
    "print('xtest shape: ', X_test.shape)\n",
    "print('ytrain shape: ', y_train.shape)\n",
    "print('ytest shape: ',y_test.shape)"
   ]
  },
  {
   "cell_type": "code",
   "execution_count": 16,
   "id": "2182b672",
   "metadata": {},
   "outputs": [
    {
     "name": "stdout",
     "output_type": "stream",
     "text": [
      "Requirement already satisfied: keras in /Users/swag/miniconda3/envs/tensorflow/lib/python3.9/site-packages (2.10.0)\n",
      "Note: you may need to restart the kernel to use updated packages.\n"
     ]
    }
   ],
   "source": [
    "%pip install keras"
   ]
  },
  {
   "cell_type": "code",
   "execution_count": 51,
   "id": "d7c1380e",
   "metadata": {},
   "outputs": [
    {
     "name": "stdout",
     "output_type": "stream",
     "text": [
      "Epoch 1/300\n",
      "11/11 [==============================] - 0s 5ms/step - loss: 0.7806 - accuracy: 0.4511 - val_loss: 0.7447 - val_accuracy: 0.4481\n",
      "Epoch 2/300\n",
      "11/11 [==============================] - 0s 1ms/step - loss: 0.7414 - accuracy: 0.5016 - val_loss: 0.7121 - val_accuracy: 0.5195\n",
      "Epoch 3/300\n",
      "11/11 [==============================] - 0s 1ms/step - loss: 0.7048 - accuracy: 0.5456 - val_loss: 0.6836 - val_accuracy: 0.5519\n",
      "Epoch 4/300\n",
      "11/11 [==============================] - 0s 1ms/step - loss: 0.6727 - accuracy: 0.5961 - val_loss: 0.6593 - val_accuracy: 0.6234\n",
      "Epoch 5/300\n",
      "11/11 [==============================] - 0s 1ms/step - loss: 0.6544 - accuracy: 0.6450 - val_loss: 0.6383 - val_accuracy: 0.6623\n",
      "Epoch 6/300\n",
      "11/11 [==============================] - 0s 1ms/step - loss: 0.6329 - accuracy: 0.6466 - val_loss: 0.6213 - val_accuracy: 0.6818\n",
      "Epoch 7/300\n",
      "11/11 [==============================] - 0s 1ms/step - loss: 0.6158 - accuracy: 0.6954 - val_loss: 0.6067 - val_accuracy: 0.7013\n",
      "Epoch 8/300\n",
      "11/11 [==============================] - 0s 1ms/step - loss: 0.6073 - accuracy: 0.6694 - val_loss: 0.5944 - val_accuracy: 0.7143\n",
      "Epoch 9/300\n",
      "11/11 [==============================] - 0s 1ms/step - loss: 0.5954 - accuracy: 0.6775 - val_loss: 0.5844 - val_accuracy: 0.7273\n",
      "Epoch 10/300\n",
      "11/11 [==============================] - 0s 1ms/step - loss: 0.5683 - accuracy: 0.7101 - val_loss: 0.5762 - val_accuracy: 0.7143\n",
      "Epoch 11/300\n",
      "11/11 [==============================] - 0s 1ms/step - loss: 0.5733 - accuracy: 0.7036 - val_loss: 0.5695 - val_accuracy: 0.7143\n",
      "Epoch 12/300\n",
      "11/11 [==============================] - 0s 1ms/step - loss: 0.5615 - accuracy: 0.7313 - val_loss: 0.5632 - val_accuracy: 0.7078\n",
      "Epoch 13/300\n",
      "11/11 [==============================] - 0s 1ms/step - loss: 0.5613 - accuracy: 0.7020 - val_loss: 0.5582 - val_accuracy: 0.7013\n",
      "Epoch 14/300\n",
      "11/11 [==============================] - 0s 1ms/step - loss: 0.5530 - accuracy: 0.7215 - val_loss: 0.5534 - val_accuracy: 0.7273\n",
      "Epoch 15/300\n",
      "11/11 [==============================] - 0s 1ms/step - loss: 0.5500 - accuracy: 0.7068 - val_loss: 0.5490 - val_accuracy: 0.7468\n",
      "Epoch 16/300\n",
      "11/11 [==============================] - 0s 1ms/step - loss: 0.5161 - accuracy: 0.7541 - val_loss: 0.5456 - val_accuracy: 0.7468\n",
      "Epoch 17/300\n",
      "11/11 [==============================] - 0s 1ms/step - loss: 0.5338 - accuracy: 0.7296 - val_loss: 0.5429 - val_accuracy: 0.7468\n",
      "Epoch 18/300\n",
      "11/11 [==============================] - 0s 1ms/step - loss: 0.5323 - accuracy: 0.7443 - val_loss: 0.5398 - val_accuracy: 0.7532\n",
      "Epoch 19/300\n",
      "11/11 [==============================] - 0s 1ms/step - loss: 0.5115 - accuracy: 0.7606 - val_loss: 0.5376 - val_accuracy: 0.7468\n",
      "Epoch 20/300\n",
      "11/11 [==============================] - 0s 1ms/step - loss: 0.5223 - accuracy: 0.7492 - val_loss: 0.5356 - val_accuracy: 0.7468\n",
      "Epoch 21/300\n",
      "11/11 [==============================] - 0s 1ms/step - loss: 0.5194 - accuracy: 0.7492 - val_loss: 0.5341 - val_accuracy: 0.7403\n",
      "Epoch 22/300\n",
      "11/11 [==============================] - 0s 1ms/step - loss: 0.5101 - accuracy: 0.7443 - val_loss: 0.5329 - val_accuracy: 0.7403\n",
      "Epoch 23/300\n",
      "11/11 [==============================] - 0s 1ms/step - loss: 0.5025 - accuracy: 0.7590 - val_loss: 0.5313 - val_accuracy: 0.7403\n",
      "Epoch 24/300\n",
      "11/11 [==============================] - 0s 1ms/step - loss: 0.4950 - accuracy: 0.7573 - val_loss: 0.5300 - val_accuracy: 0.7403\n",
      "Epoch 25/300\n",
      "11/11 [==============================] - 0s 1ms/step - loss: 0.4952 - accuracy: 0.7638 - val_loss: 0.5287 - val_accuracy: 0.7403\n",
      "Epoch 26/300\n",
      "11/11 [==============================] - 0s 1ms/step - loss: 0.4972 - accuracy: 0.7524 - val_loss: 0.5275 - val_accuracy: 0.7468\n",
      "Epoch 27/300\n",
      "11/11 [==============================] - 0s 1ms/step - loss: 0.5028 - accuracy: 0.7524 - val_loss: 0.5263 - val_accuracy: 0.7532\n",
      "Epoch 28/300\n",
      "11/11 [==============================] - 0s 1ms/step - loss: 0.4918 - accuracy: 0.7720 - val_loss: 0.5252 - val_accuracy: 0.7468\n",
      "Epoch 29/300\n",
      "11/11 [==============================] - 0s 1ms/step - loss: 0.4870 - accuracy: 0.7508 - val_loss: 0.5247 - val_accuracy: 0.7468\n",
      "Epoch 30/300\n",
      "11/11 [==============================] - 0s 1ms/step - loss: 0.5041 - accuracy: 0.7459 - val_loss: 0.5243 - val_accuracy: 0.7468\n",
      "Epoch 31/300\n",
      "11/11 [==============================] - 0s 1ms/step - loss: 0.4856 - accuracy: 0.7622 - val_loss: 0.5234 - val_accuracy: 0.7468\n",
      "Epoch 32/300\n",
      "11/11 [==============================] - 0s 1ms/step - loss: 0.4911 - accuracy: 0.7524 - val_loss: 0.5227 - val_accuracy: 0.7468\n",
      "Epoch 33/300\n",
      "11/11 [==============================] - 0s 1ms/step - loss: 0.4769 - accuracy: 0.7573 - val_loss: 0.5219 - val_accuracy: 0.7468\n",
      "Epoch 34/300\n",
      "11/11 [==============================] - 0s 1ms/step - loss: 0.4855 - accuracy: 0.7687 - val_loss: 0.5209 - val_accuracy: 0.7532\n",
      "Epoch 35/300\n",
      "11/11 [==============================] - 0s 1ms/step - loss: 0.4692 - accuracy: 0.7687 - val_loss: 0.5204 - val_accuracy: 0.7532\n",
      "Epoch 36/300\n",
      "11/11 [==============================] - 0s 1ms/step - loss: 0.4750 - accuracy: 0.7541 - val_loss: 0.5204 - val_accuracy: 0.7468\n",
      "Epoch 37/300\n",
      "11/11 [==============================] - 0s 1ms/step - loss: 0.4723 - accuracy: 0.7638 - val_loss: 0.5202 - val_accuracy: 0.7468\n",
      "Epoch 38/300\n",
      "11/11 [==============================] - 0s 1ms/step - loss: 0.4762 - accuracy: 0.7752 - val_loss: 0.5199 - val_accuracy: 0.7468\n",
      "Epoch 39/300\n",
      "11/11 [==============================] - 0s 1ms/step - loss: 0.4643 - accuracy: 0.7736 - val_loss: 0.5201 - val_accuracy: 0.7468\n",
      "Epoch 40/300\n",
      "11/11 [==============================] - 0s 1ms/step - loss: 0.4810 - accuracy: 0.7785 - val_loss: 0.5204 - val_accuracy: 0.7468\n",
      "Epoch 41/300\n",
      "11/11 [==============================] - 0s 1ms/step - loss: 0.4830 - accuracy: 0.7687 - val_loss: 0.5201 - val_accuracy: 0.7532\n",
      "Epoch 42/300\n",
      "11/11 [==============================] - 0s 1ms/step - loss: 0.4734 - accuracy: 0.7769 - val_loss: 0.5193 - val_accuracy: 0.7532\n",
      "Epoch 43/300\n",
      "11/11 [==============================] - 0s 1ms/step - loss: 0.4582 - accuracy: 0.7638 - val_loss: 0.5192 - val_accuracy: 0.7597\n",
      "Epoch 44/300\n",
      "11/11 [==============================] - 0s 1ms/step - loss: 0.4663 - accuracy: 0.7638 - val_loss: 0.5190 - val_accuracy: 0.7597\n",
      "Epoch 45/300\n",
      "11/11 [==============================] - 0s 1ms/step - loss: 0.4857 - accuracy: 0.7492 - val_loss: 0.5189 - val_accuracy: 0.7597\n",
      "Epoch 46/300\n",
      "11/11 [==============================] - 0s 1ms/step - loss: 0.4794 - accuracy: 0.7622 - val_loss: 0.5188 - val_accuracy: 0.7597\n",
      "Epoch 47/300\n",
      "11/11 [==============================] - 0s 1ms/step - loss: 0.4709 - accuracy: 0.7704 - val_loss: 0.5188 - val_accuracy: 0.7662\n",
      "Epoch 48/300\n",
      "11/11 [==============================] - 0s 1ms/step - loss: 0.4611 - accuracy: 0.7671 - val_loss: 0.5191 - val_accuracy: 0.7662\n",
      "Epoch 49/300\n",
      "11/11 [==============================] - 0s 1ms/step - loss: 0.4470 - accuracy: 0.7915 - val_loss: 0.5198 - val_accuracy: 0.7662\n",
      "Epoch 50/300\n",
      "11/11 [==============================] - 0s 1ms/step - loss: 0.4688 - accuracy: 0.7785 - val_loss: 0.5199 - val_accuracy: 0.7662\n",
      "Epoch 51/300\n",
      "11/11 [==============================] - 0s 1ms/step - loss: 0.4660 - accuracy: 0.7655 - val_loss: 0.5208 - val_accuracy: 0.7662\n",
      "Epoch 52/300\n",
      "11/11 [==============================] - 0s 1ms/step - loss: 0.4675 - accuracy: 0.7590 - val_loss: 0.5210 - val_accuracy: 0.7662\n",
      "Epoch 53/300\n",
      "11/11 [==============================] - 0s 1ms/step - loss: 0.4730 - accuracy: 0.7687 - val_loss: 0.5214 - val_accuracy: 0.7662\n",
      "Epoch 54/300\n",
      "11/11 [==============================] - 0s 1ms/step - loss: 0.4635 - accuracy: 0.7785 - val_loss: 0.5218 - val_accuracy: 0.7662\n",
      "Epoch 55/300\n",
      "11/11 [==============================] - 0s 1ms/step - loss: 0.4718 - accuracy: 0.7655 - val_loss: 0.5216 - val_accuracy: 0.7597\n",
      "Epoch 56/300\n",
      "11/11 [==============================] - 0s 1ms/step - loss: 0.4608 - accuracy: 0.7752 - val_loss: 0.5218 - val_accuracy: 0.7597\n",
      "Epoch 57/300\n",
      "11/11 [==============================] - 0s 1ms/step - loss: 0.4570 - accuracy: 0.7818 - val_loss: 0.5222 - val_accuracy: 0.7597\n",
      "Epoch 58/300\n",
      "11/11 [==============================] - 0s 1ms/step - loss: 0.4676 - accuracy: 0.7655 - val_loss: 0.5223 - val_accuracy: 0.7597\n"
     ]
    },
    {
     "name": "stdout",
     "output_type": "stream",
     "text": [
      "Epoch 59/300\n",
      "11/11 [==============================] - 0s 1ms/step - loss: 0.4492 - accuracy: 0.7899 - val_loss: 0.5218 - val_accuracy: 0.7662\n",
      "Epoch 60/300\n",
      "11/11 [==============================] - 0s 1ms/step - loss: 0.4548 - accuracy: 0.7785 - val_loss: 0.5220 - val_accuracy: 0.7662\n",
      "Epoch 61/300\n",
      "11/11 [==============================] - 0s 1ms/step - loss: 0.4647 - accuracy: 0.7818 - val_loss: 0.5229 - val_accuracy: 0.7597\n",
      "Epoch 62/300\n",
      "11/11 [==============================] - 0s 1ms/step - loss: 0.4569 - accuracy: 0.7736 - val_loss: 0.5232 - val_accuracy: 0.7662\n",
      "Epoch 63/300\n",
      "11/11 [==============================] - 0s 1ms/step - loss: 0.4664 - accuracy: 0.7704 - val_loss: 0.5229 - val_accuracy: 0.7662\n",
      "Epoch 64/300\n",
      "11/11 [==============================] - 0s 1ms/step - loss: 0.4568 - accuracy: 0.7720 - val_loss: 0.5232 - val_accuracy: 0.7597\n",
      "Epoch 65/300\n",
      "11/11 [==============================] - 0s 1ms/step - loss: 0.4646 - accuracy: 0.7736 - val_loss: 0.5242 - val_accuracy: 0.7597\n",
      "Epoch 66/300\n",
      "11/11 [==============================] - 0s 1ms/step - loss: 0.4585 - accuracy: 0.7704 - val_loss: 0.5245 - val_accuracy: 0.7597\n",
      "Epoch 67/300\n",
      "11/11 [==============================] - 0s 1ms/step - loss: 0.4687 - accuracy: 0.7671 - val_loss: 0.5246 - val_accuracy: 0.7662\n"
     ]
    },
    {
     "data": {
      "text/plain": [
       "<keras.callbacks.History at 0x1776317f0>"
      ]
     },
     "execution_count": 51,
     "metadata": {},
     "output_type": "execute_result"
    }
   ],
   "source": [
    "from keras.models import Sequential\n",
    "from keras.layers import Dense, Dropout\n",
    "from keras.callbacks import EarlyStopping\n",
    "# nn model\n",
    "model = Sequential()\n",
    "# hidden layers\n",
    "model.add(Dense(units=16, activation='relu'))\n",
    "# model.add(Dense(units=50, activation='relu'))\n",
    "model.add(Dropout(0.2))\n",
    "\n",
    "#output layer\n",
    "model.add(Dense(units=1, activation='sigmoid'))\n",
    "# back propagation\n",
    "model.compile(optimizer='adam', loss='binary_crossentropy', metrics='accuracy')\n",
    "#input and training\n",
    "es = EarlyStopping(monitor='val_loss', mode='min', patience=20)\n",
    "model.fit(X_train, y_train, batch_size=60, epochs=300, validation_data=(X_test, y_test), callbacks=es)"
   ]
  },
  {
   "cell_type": "code",
   "execution_count": 52,
   "id": "c098c658",
   "metadata": {},
   "outputs": [
    {
     "name": "stdout",
     "output_type": "stream",
     "text": [
      "20/20 [==============================] - 0s 506us/step - loss: 0.4389 - accuracy: 0.7834\n",
      "5/5 [==============================] - 0s 414us/step - loss: 0.5246 - accuracy: 0.7662\n"
     ]
    },
    {
     "data": {
      "text/plain": [
       "[0.5245717763900757, 0.7662337422370911]"
      ]
     },
     "execution_count": 52,
     "metadata": {},
     "output_type": "execute_result"
    }
   ],
   "source": [
    "model.evaluate(X_train, y_train)\n",
    "model.evaluate(X_test, y_test)"
   ]
  },
  {
   "cell_type": "markdown",
   "id": "d54292a6",
   "metadata": {},
   "source": [
    "# __Training the Model__"
   ]
  },
  {
   "cell_type": "code",
   "execution_count": 53,
   "id": "d6f3856c",
   "metadata": {},
   "outputs": [],
   "source": [
    "classifier = svm.SVC(kernel='linear')"
   ]
  },
  {
   "cell_type": "code",
   "execution_count": 54,
   "id": "9c608262",
   "metadata": {},
   "outputs": [
    {
     "data": {
      "text/html": [
       "<style>#sk-container-id-1 {color: black;background-color: white;}#sk-container-id-1 pre{padding: 0;}#sk-container-id-1 div.sk-toggleable {background-color: white;}#sk-container-id-1 label.sk-toggleable__label {cursor: pointer;display: block;width: 100%;margin-bottom: 0;padding: 0.3em;box-sizing: border-box;text-align: center;}#sk-container-id-1 label.sk-toggleable__label-arrow:before {content: \"▸\";float: left;margin-right: 0.25em;color: #696969;}#sk-container-id-1 label.sk-toggleable__label-arrow:hover:before {color: black;}#sk-container-id-1 div.sk-estimator:hover label.sk-toggleable__label-arrow:before {color: black;}#sk-container-id-1 div.sk-toggleable__content {max-height: 0;max-width: 0;overflow: hidden;text-align: left;background-color: #f0f8ff;}#sk-container-id-1 div.sk-toggleable__content pre {margin: 0.2em;color: black;border-radius: 0.25em;background-color: #f0f8ff;}#sk-container-id-1 input.sk-toggleable__control:checked~div.sk-toggleable__content {max-height: 200px;max-width: 100%;overflow: auto;}#sk-container-id-1 input.sk-toggleable__control:checked~label.sk-toggleable__label-arrow:before {content: \"▾\";}#sk-container-id-1 div.sk-estimator input.sk-toggleable__control:checked~label.sk-toggleable__label {background-color: #d4ebff;}#sk-container-id-1 div.sk-label input.sk-toggleable__control:checked~label.sk-toggleable__label {background-color: #d4ebff;}#sk-container-id-1 input.sk-hidden--visually {border: 0;clip: rect(1px 1px 1px 1px);clip: rect(1px, 1px, 1px, 1px);height: 1px;margin: -1px;overflow: hidden;padding: 0;position: absolute;width: 1px;}#sk-container-id-1 div.sk-estimator {font-family: monospace;background-color: #f0f8ff;border: 1px dotted black;border-radius: 0.25em;box-sizing: border-box;margin-bottom: 0.5em;}#sk-container-id-1 div.sk-estimator:hover {background-color: #d4ebff;}#sk-container-id-1 div.sk-parallel-item::after {content: \"\";width: 100%;border-bottom: 1px solid gray;flex-grow: 1;}#sk-container-id-1 div.sk-label:hover label.sk-toggleable__label {background-color: #d4ebff;}#sk-container-id-1 div.sk-serial::before {content: \"\";position: absolute;border-left: 1px solid gray;box-sizing: border-box;top: 0;bottom: 0;left: 50%;z-index: 0;}#sk-container-id-1 div.sk-serial {display: flex;flex-direction: column;align-items: center;background-color: white;padding-right: 0.2em;padding-left: 0.2em;position: relative;}#sk-container-id-1 div.sk-item {position: relative;z-index: 1;}#sk-container-id-1 div.sk-parallel {display: flex;align-items: stretch;justify-content: center;background-color: white;position: relative;}#sk-container-id-1 div.sk-item::before, #sk-container-id-1 div.sk-parallel-item::before {content: \"\";position: absolute;border-left: 1px solid gray;box-sizing: border-box;top: 0;bottom: 0;left: 50%;z-index: -1;}#sk-container-id-1 div.sk-parallel-item {display: flex;flex-direction: column;z-index: 1;position: relative;background-color: white;}#sk-container-id-1 div.sk-parallel-item:first-child::after {align-self: flex-end;width: 50%;}#sk-container-id-1 div.sk-parallel-item:last-child::after {align-self: flex-start;width: 50%;}#sk-container-id-1 div.sk-parallel-item:only-child::after {width: 0;}#sk-container-id-1 div.sk-dashed-wrapped {border: 1px dashed gray;margin: 0 0.4em 0.5em 0.4em;box-sizing: border-box;padding-bottom: 0.4em;background-color: white;}#sk-container-id-1 div.sk-label label {font-family: monospace;font-weight: bold;display: inline-block;line-height: 1.2em;}#sk-container-id-1 div.sk-label-container {text-align: center;}#sk-container-id-1 div.sk-container {/* jupyter's `normalize.less` sets `[hidden] { display: none; }` but bootstrap.min.css set `[hidden] { display: none !important; }` so we also need the `!important` here to be able to override the default hidden behavior on the sphinx rendered scikit-learn.org. See: https://github.com/scikit-learn/scikit-learn/issues/21755 */display: inline-block !important;position: relative;}#sk-container-id-1 div.sk-text-repr-fallback {display: none;}</style><div id=\"sk-container-id-1\" class=\"sk-top-container\"><div class=\"sk-text-repr-fallback\"><pre>SVC(kernel=&#x27;linear&#x27;)</pre><b>In a Jupyter environment, please rerun this cell to show the HTML representation or trust the notebook. <br />On GitHub, the HTML representation is unable to render, please try loading this page with nbviewer.org.</b></div><div class=\"sk-container\" hidden><div class=\"sk-item\"><div class=\"sk-estimator sk-toggleable\"><input class=\"sk-toggleable__control sk-hidden--visually\" id=\"sk-estimator-id-1\" type=\"checkbox\" checked><label for=\"sk-estimator-id-1\" class=\"sk-toggleable__label sk-toggleable__label-arrow\">SVC</label><div class=\"sk-toggleable__content\"><pre>SVC(kernel=&#x27;linear&#x27;)</pre></div></div></div></div></div>"
      ],
      "text/plain": [
       "SVC(kernel='linear')"
      ]
     },
     "execution_count": 54,
     "metadata": {},
     "output_type": "execute_result"
    }
   ],
   "source": [
    "# training the data into support vector machine classifier\n",
    "classifier.fit(X_train, y_train)"
   ]
  },
  {
   "cell_type": "markdown",
   "id": "74e15010",
   "metadata": {},
   "source": [
    "# __Model Evaluation__"
   ]
  },
  {
   "cell_type": "code",
   "execution_count": 55,
   "id": "6d07417a",
   "metadata": {},
   "outputs": [],
   "source": [
    "# accuracy score on training data\n",
    "X_train_prediction = classifier.predict(X_train)\n",
    "training_data_accuracy = accuracy_score(X_train_prediction, y_train)"
   ]
  },
  {
   "cell_type": "code",
   "execution_count": 56,
   "id": "e0c6775e",
   "metadata": {},
   "outputs": [
    {
     "name": "stdout",
     "output_type": "stream",
     "text": [
      "Accuracy score of the training data :  0.7866449511400652\n"
     ]
    }
   ],
   "source": [
    "print('Accuracy score of the training data : ', training_data_accuracy)"
   ]
  },
  {
   "cell_type": "code",
   "execution_count": 57,
   "id": "2c260bcf",
   "metadata": {},
   "outputs": [],
   "source": [
    "# accuracy score on testing data\n",
    "X_test_prediction = classifier.predict(X_test)\n",
    "testing_data_accuracy = accuracy_score(X_test_prediction, y_test)"
   ]
  },
  {
   "cell_type": "code",
   "execution_count": 58,
   "id": "1d0abe85",
   "metadata": {},
   "outputs": [
    {
     "name": "stdout",
     "output_type": "stream",
     "text": [
      "Accuracy score of the training data :  0.7727272727272727\n"
     ]
    }
   ],
   "source": [
    "print('Accuracy score of the training data : ', testing_data_accuracy)"
   ]
  },
  {
   "cell_type": "markdown",
   "id": "ad87c6c4",
   "metadata": {},
   "source": [
    "# __Making a Predictive System__"
   ]
  },
  {
   "cell_type": "code",
   "execution_count": 59,
   "id": "42a40d1c",
   "metadata": {
    "scrolled": true
   },
   "outputs": [
    {
     "name": "stdout",
     "output_type": "stream",
     "text": [
      "The person is not Diabetic\n"
     ]
    }
   ],
   "source": [
    "input_data = [4,110,92,0,0,37.6,0.191,30]\n",
    "\n",
    "# changing the input data into numpy array\n",
    "input_data_as_array = np.asarray(input_data)\n",
    "\n",
    "# reshaping the array as we are predicting for one instance\n",
    "input_data_reshape = input_data_as_array.reshape(1, -1)\n",
    "\n",
    "# standardizing the data\n",
    "input_data_standardize = scale.transform(input_data_reshape)\n",
    "# print(input_data_standardize)\n",
    "\n",
    "# predicting the label\n",
    "prediction = classifier.predict(input_data_standardize)\n",
    "# print(prediction)\n",
    "\n",
    "if prediction == 0:\n",
    "    print('The person is not Diabetic')\n",
    "else:\n",
    "    print('The person is Diabetic')"
   ]
  },
  {
   "cell_type": "markdown",
   "id": "0b06b6b8",
   "metadata": {},
   "source": [
    "# __Saving the Model__"
   ]
  },
  {
   "cell_type": "code",
   "execution_count": 60,
   "id": "1076c52b",
   "metadata": {},
   "outputs": [],
   "source": [
    "import pickle\n",
    "\n",
    "filename = 'trained_model.sav'\n",
    "pickle.dump(classifier, open(filename, 'wb'))"
   ]
  },
  {
   "cell_type": "code",
   "execution_count": 61,
   "id": "0a29cba8",
   "metadata": {},
   "outputs": [],
   "source": [
    "# loading the saved model\n",
    "\n",
    "loaded_model = pickle.load(open('./trained_model.sav', 'rb'))"
   ]
  },
  {
   "cell_type": "code",
   "execution_count": 62,
   "id": "3a91e50a",
   "metadata": {},
   "outputs": [
    {
     "name": "stdout",
     "output_type": "stream",
     "text": [
      "The person is Diabetic\n"
     ]
    }
   ],
   "source": [
    "input_data = [4,110,92,0,0,37.6,0.191,30]\n",
    "\n",
    "# changing the input data into numpy array\n",
    "input_data_as_array = np.asarray(input_data)\n",
    "\n",
    "# reshaping the array as we are predicting for one instance\n",
    "input_data_reshape = input_data_as_array.reshape(1, -1)\n",
    "\n",
    "# predicting the label\n",
    "prediction = loaded_model.predict(input_data_reshape)\n",
    "# print(prediction)\n",
    "\n",
    "if prediction == 0:\n",
    "    print('The person is not Diabetic')\n",
    "else:\n",
    "    print('The person is Diabetic')"
   ]
  }
 ],
 "metadata": {
  "kernelspec": {
   "display_name": "Python 3 (ipykernel)",
   "language": "python",
   "name": "python3"
  },
  "language_info": {
   "codemirror_mode": {
    "name": "ipython",
    "version": 3
   },
   "file_extension": ".py",
   "mimetype": "text/x-python",
   "name": "python",
   "nbconvert_exporter": "python",
   "pygments_lexer": "ipython3",
   "version": "3.9.16"
  },
  "toc": {
   "base_numbering": 1,
   "nav_menu": {},
   "number_sections": true,
   "sideBar": true,
   "skip_h1_title": false,
   "title_cell": "Table of Contents",
   "title_sidebar": "Contents",
   "toc_cell": false,
   "toc_position": {},
   "toc_section_display": true,
   "toc_window_display": false
  },
  "vscode": {
   "interpreter": {
    "hash": "b8df26da21329739e28764d3eb9c5c8e419db839b41f83230b6080de9f58ee5e"
   }
  }
 },
 "nbformat": 4,
 "nbformat_minor": 5
}
