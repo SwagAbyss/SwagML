{
 "cells": [
  {
   "attachments": {},
   "cell_type": "markdown",
   "id": "75d60dd9",
   "metadata": {},
   "source": [
    "# __1. Import Packages__"
   ]
  },
  {
   "cell_type": "code",
   "execution_count": 1,
   "id": "68224029",
   "metadata": {},
   "outputs": [],
   "source": [
    "# Data manipulation\n",
    "import pandas as pd\n",
    "import numpy as np\n",
    "# Data visualization\n",
    "import matplotlib.pyplot as plt\n",
    "import seaborn as sns\n",
    "import plotly.express as px\n",
    "\n",
    "from scipy.stats import skew\n",
    "# Ignore warnings\n",
    "import warnings\n",
    "warnings.filterwarnings('ignore')"
   ]
  },
  {
   "attachments": {},
   "cell_type": "markdown",
   "id": "c69d6c93",
   "metadata": {},
   "source": [
    "# __2. Dataset Overview__"
   ]
  },
  {
   "cell_type": "code",
   "execution_count": 2,
   "id": "9db67855",
   "metadata": {},
   "outputs": [],
   "source": [
    "data = pd.read_table('smsspamcollection.tsv')"
   ]
  },
  {
   "cell_type": "code",
   "execution_count": 3,
   "id": "071332e7",
   "metadata": {},
   "outputs": [
    {
     "data": {
      "text/plain": [
       "(5572, 4)"
      ]
     },
     "execution_count": 3,
     "metadata": {},
     "output_type": "execute_result"
    }
   ],
   "source": [
    "data.shape"
   ]
  },
  {
   "cell_type": "code",
   "execution_count": 4,
   "id": "5e670d5e",
   "metadata": {},
   "outputs": [
    {
     "name": "stdout",
     "output_type": "stream",
     "text": [
      "<class 'pandas.core.frame.DataFrame'>\n",
      "RangeIndex: 5572 entries, 0 to 5571\n",
      "Data columns (total 4 columns):\n",
      " #   Column   Non-Null Count  Dtype \n",
      "---  ------   --------------  ----- \n",
      " 0   label    5572 non-null   object\n",
      " 1   message  5572 non-null   object\n",
      " 2   length   5572 non-null   int64 \n",
      " 3   punct    5572 non-null   int64 \n",
      "dtypes: int64(2), object(2)\n",
      "memory usage: 174.2+ KB\n"
     ]
    }
   ],
   "source": [
    "data.info()"
   ]
  },
  {
   "attachments": {},
   "cell_type": "markdown",
   "id": "373db149",
   "metadata": {},
   "source": [
    "# __3. Building the model__"
   ]
  },
  {
   "attachments": {},
   "cell_type": "markdown",
   "id": "08ad4397",
   "metadata": {},
   "source": [
    "## __3.1 Determine Features & Target Variables__"
   ]
  },
  {
   "cell_type": "code",
   "execution_count": 5,
   "id": "1d1e2236",
   "metadata": {},
   "outputs": [],
   "source": [
    "X = data['message']\n",
    "y = data.label"
   ]
  },
  {
   "attachments": {},
   "cell_type": "markdown",
   "id": "443efeca",
   "metadata": {},
   "source": [
    "## __3.2 Vectorizing the categorical data__"
   ]
  },
  {
   "cell_type": "code",
   "execution_count": 6,
   "id": "b74e3ab7",
   "metadata": {},
   "outputs": [],
   "source": [
    "from sklearn.feature_extraction.text import CountVectorizer\n",
    "vector = CountVectorizer()\n",
    "X = vector.fit_transform(X).toarray()"
   ]
  },
  {
   "attachments": {},
   "cell_type": "markdown",
   "id": "3ad03c9f",
   "metadata": {},
   "source": [
    "## __3.3 Split the dataset into Traing and Test sets__"
   ]
  },
  {
   "cell_type": "code",
   "execution_count": 7,
   "id": "78dff748",
   "metadata": {},
   "outputs": [],
   "source": [
    "from sklearn.model_selection import train_test_split\n",
    "\n",
    "xtrain, xtest, ytrain, ytest = train_test_split(X, y, random_state=3, train_size=0.3)"
   ]
  },
  {
   "attachments": {},
   "cell_type": "markdown",
   "id": "b01b051a",
   "metadata": {},
   "source": [
    "# __3.4 Training the model__"
   ]
  },
  {
   "cell_type": "code",
   "execution_count": 8,
   "id": "067dce43",
   "metadata": {},
   "outputs": [],
   "source": [
    "from sklearn.naive_bayes import GaussianNB, MultinomialNB, BernoulliNB\n",
    "from sklearn.neighbors import KNeighborsClassifier\n",
    "from sklearn.metrics import classification_report\n",
    "\n",
    "def select_model_predict(model):\n",
    "    \n",
    "    # Training the model\n",
    "    model.fit(xtrain, ytrain)\n",
    "    ypred = model.predict(xtest)\n",
    "    \n",
    "    #Checking Bias-variance tradeoff\n",
    "    train_accuracy = model.score(xtrain, ytrain)\n",
    "    test_accuracy = model.score(xtest, ytest)\n",
    "    \n",
    "    #Converting Accuracy score into dataframe\n",
    "    dataframe = pd.DataFrame(\n",
    "        [train_accuracy*100, test_accuracy*100], \n",
    "        index=['Train Accuracy', 'Test Accuracy'], \n",
    "        columns=['Value'])\n",
    "    print(dataframe)\n",
    "    \n",
    "    # Classification Report for the model\n",
    "    report = classification_report(ytest, ypred)\n",
    "    print(report)\n",
    "    \n",
    "    return model"
   ]
  },
  {
   "cell_type": "code",
   "execution_count": 9,
   "id": "8915e846",
   "metadata": {},
   "outputs": [
    {
     "name": "stdout",
     "output_type": "stream",
     "text": [
      "                    Value\n",
      "Train Accuracy  97.067624\n",
      "Test Accuracy   91.796975\n",
      "              precision    recall  f1-score   support\n",
      "\n",
      "         ham       0.98      0.92      0.95      3371\n",
      "        spam       0.64      0.89      0.75       530\n",
      "\n",
      "    accuracy                           0.92      3901\n",
      "   macro avg       0.81      0.91      0.85      3901\n",
      "weighted avg       0.94      0.92      0.92      3901\n",
      "\n"
     ]
    }
   ],
   "source": [
    "gnb = select_model_predict(GaussianNB())"
   ]
  },
  {
   "cell_type": "code",
   "execution_count": 10,
   "id": "5c59a261",
   "metadata": {},
   "outputs": [
    {
     "name": "stdout",
     "output_type": "stream",
     "text": [
      "                    Value\n",
      "Train Accuracy  98.982645\n",
      "Test Accuracy   97.974878\n",
      "              precision    recall  f1-score   support\n",
      "\n",
      "         ham       0.98      0.99      0.99      3371\n",
      "        spam       0.95      0.90      0.92       530\n",
      "\n",
      "    accuracy                           0.98      3901\n",
      "   macro avg       0.97      0.95      0.96      3901\n",
      "weighted avg       0.98      0.98      0.98      3901\n",
      "\n"
     ]
    }
   ],
   "source": [
    "mnb = select_model_predict(MultinomialNB())"
   ]
  },
  {
   "cell_type": "code",
   "execution_count": 11,
   "id": "32cb81c2",
   "metadata": {},
   "outputs": [
    {
     "name": "stdout",
     "output_type": "stream",
     "text": [
      "                    Value\n",
      "Train Accuracy  94.673848\n",
      "Test Accuracy   93.258139\n",
      "              precision    recall  f1-score   support\n",
      "\n",
      "         ham       0.93      1.00      0.96      3371\n",
      "        spam       0.99      0.51      0.67       530\n",
      "\n",
      "    accuracy                           0.93      3901\n",
      "   macro avg       0.96      0.75      0.82      3901\n",
      "weighted avg       0.94      0.93      0.92      3901\n",
      "\n"
     ]
    }
   ],
   "source": [
    "bnb = select_model_predict(BernoulliNB())"
   ]
  },
  {
   "cell_type": "code",
   "execution_count": 14,
   "id": "99883dee",
   "metadata": {},
   "outputs": [
    {
     "name": "stdout",
     "output_type": "stream",
     "text": [
      "                    Value\n",
      "Train Accuracy  88.270497\n",
      "Test Accuracy   87.208408\n",
      "              precision    recall  f1-score   support\n",
      "\n",
      "         ham       0.87      1.00      0.93      3371\n",
      "        spam       1.00      0.06      0.11       530\n",
      "\n",
      "    accuracy                           0.87      3901\n",
      "   macro avg       0.94      0.53      0.52      3901\n",
      "weighted avg       0.89      0.87      0.82      3901\n",
      "\n"
     ]
    }
   ],
   "source": [
    "knc = select_model_predict(KNeighborsClassifier(n_neighbors=7))"
   ]
  }
 ],
 "metadata": {
  "kernelspec": {
   "display_name": "Python 3",
   "language": "python",
   "name": "python3"
  },
  "language_info": {
   "codemirror_mode": {
    "name": "ipython",
    "version": 3
   },
   "file_extension": ".py",
   "mimetype": "text/x-python",
   "name": "python",
   "nbconvert_exporter": "python",
   "pygments_lexer": "ipython3",
   "version": "3.11.0 (v3.11.0:deaf509e8f, Oct 24 2022, 14:43:23) [Clang 13.0.0 (clang-1300.0.29.30)]"
  },
  "vscode": {
   "interpreter": {
    "hash": "aee8b7b246df8f9039afb4144a1f6fd8d2ca17a180786b69acc140d282b71a49"
   }
  }
 },
 "nbformat": 4,
 "nbformat_minor": 5
}
