{
 "cells": [
  {
   "cell_type": "markdown",
   "id": "b4f6b49f",
   "metadata": {},
   "source": [
    "## ARMA Model:\n",
    "\n",
    "- Autoregressive Moving Average (ARMA) is a time series model that combines two key components: autoregression (AR) and moving average (MA).\n",
    "- Autoregression is the process of using past values of a time series to predict future values. In an ARMA model, this is accomplished by fitting a linear regression model to the series' past values.\n",
    "- Moving average, on the other hand, involves modeling the error terms of the series. In an ARMA model, the error terms are assumed to follow a moving average process, where past error terms are used to predict future error terms.\n",
    "- The ARMA model assumes that the time series is stationary, which means that the mean and variance of the series are constant over time. Stationarity is an important assumption for ARMA models, as they do not work well with non-stationary time series data.\n",
    "- The parameters of an ARMA model are typically estimated using maximum likelihood estimation or other statistical methods.\n",
    "- ARMA models are commonly used in finance, economics, and other fields to model and forecast time series data.\n",
    "\n",
    "## ARIMA Model:\n",
    "\n",
    "- Autoregressive Integrated Moving Average (ARIMA) is an extension of the ARMA model that includes an additional component called the integrated (I) component.\n",
    "- The I component involves differencing the time series to make it stationary. Differencing means subtracting each value in the series from its previous value. This process removes trends and other non-stationary features from the series.\n",
    "- ARIMA models can handle non-stationary time series data, which makes them more flexible than ARMA models.\n",
    "- Like ARMA models, ARIMA models include autoregression (AR) and moving average (MA) components. The AR and MA components are used to model the autocorrelation and moving average structure of the time series, respectively.\n",
    "- The parameters of an ARIMA model are typically estimated using maximum likelihood estimation or other statistical methods.\n",
    "- ARIMA models are commonly used in finance, economics, and other fields to model and forecast time series data.\n",
    "\n",
    "\n"
   ]
  }
 ],
 "metadata": {
  "kernelspec": {
   "display_name": "Python 3 (ipykernel)",
   "language": "python",
   "name": "python3"
  },
  "language_info": {
   "codemirror_mode": {
    "name": "ipython",
    "version": 3
   },
   "file_extension": ".py",
   "mimetype": "text/x-python",
   "name": "python",
   "nbconvert_exporter": "python",
   "pygments_lexer": "ipython3",
   "version": "3.10.9"
  },
  "toc": {
   "base_numbering": 1,
   "nav_menu": {},
   "number_sections": true,
   "sideBar": true,
   "skip_h1_title": false,
   "title_cell": "Table of Contents",
   "title_sidebar": "Contents",
   "toc_cell": false,
   "toc_position": {},
   "toc_section_display": true,
   "toc_window_display": false
  }
 },
 "nbformat": 4,
 "nbformat_minor": 5
}
