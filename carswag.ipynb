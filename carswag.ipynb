{
 "cells": [
  {
   "cell_type": "code",
   "execution_count": 1,
   "id": "d938fcfb",
   "metadata": {},
   "outputs": [],
   "source": [
    "import numpy as np\n",
    "import pandas as pd\n",
    "import seaborn as sns\n",
    "import matplotlib.pyplot as plt\n",
    "import warnings\n",
    "warnings.filterwarnings('ignore')"
   ]
  },
  {
   "cell_type": "code",
   "execution_count": 2,
   "id": "f74b6305",
   "metadata": {},
   "outputs": [],
   "source": [
    "data = pd.read_csv('cars.csv')"
   ]
  },
  {
   "cell_type": "code",
   "execution_count": 3,
   "id": "1885b69d",
   "metadata": {},
   "outputs": [
    {
     "data": {
      "text/html": [
       "<div>\n",
       "<style scoped>\n",
       "    .dataframe tbody tr th:only-of-type {\n",
       "        vertical-align: middle;\n",
       "    }\n",
       "\n",
       "    .dataframe tbody tr th {\n",
       "        vertical-align: top;\n",
       "    }\n",
       "\n",
       "    .dataframe thead th {\n",
       "        text-align: right;\n",
       "    }\n",
       "</style>\n",
       "<table border=\"1\" class=\"dataframe\">\n",
       "  <thead>\n",
       "    <tr style=\"text-align: right;\">\n",
       "      <th></th>\n",
       "      <th>symboling</th>\n",
       "      <th>normalized-losses</th>\n",
       "      <th>make</th>\n",
       "      <th>fuel-type</th>\n",
       "      <th>body-style</th>\n",
       "      <th>drive-wheels</th>\n",
       "      <th>engine-location</th>\n",
       "      <th>width</th>\n",
       "      <th>height</th>\n",
       "      <th>engine-type</th>\n",
       "      <th>engine-size</th>\n",
       "      <th>horsepower</th>\n",
       "      <th>city-mpg</th>\n",
       "      <th>highway-mpg</th>\n",
       "      <th>price</th>\n",
       "    </tr>\n",
       "  </thead>\n",
       "  <tbody>\n",
       "    <tr>\n",
       "      <th>0</th>\n",
       "      <td>3</td>\n",
       "      <td>?</td>\n",
       "      <td>alfa-romero</td>\n",
       "      <td>gas</td>\n",
       "      <td>convertible</td>\n",
       "      <td>rwd</td>\n",
       "      <td>front</td>\n",
       "      <td>64.1</td>\n",
       "      <td>48.8</td>\n",
       "      <td>dohc</td>\n",
       "      <td>130</td>\n",
       "      <td>111</td>\n",
       "      <td>21</td>\n",
       "      <td>27</td>\n",
       "      <td>13495</td>\n",
       "    </tr>\n",
       "    <tr>\n",
       "      <th>1</th>\n",
       "      <td>3</td>\n",
       "      <td>?</td>\n",
       "      <td>alfa-romero</td>\n",
       "      <td>gas</td>\n",
       "      <td>convertible</td>\n",
       "      <td>rwd</td>\n",
       "      <td>front</td>\n",
       "      <td>64.1</td>\n",
       "      <td>48.8</td>\n",
       "      <td>dohc</td>\n",
       "      <td>130</td>\n",
       "      <td>111</td>\n",
       "      <td>21</td>\n",
       "      <td>27</td>\n",
       "      <td>16500</td>\n",
       "    </tr>\n",
       "    <tr>\n",
       "      <th>2</th>\n",
       "      <td>1</td>\n",
       "      <td>?</td>\n",
       "      <td>alfa-romero</td>\n",
       "      <td>gas</td>\n",
       "      <td>hatchback</td>\n",
       "      <td>rwd</td>\n",
       "      <td>front</td>\n",
       "      <td>65.5</td>\n",
       "      <td>52.4</td>\n",
       "      <td>ohcv</td>\n",
       "      <td>152</td>\n",
       "      <td>154</td>\n",
       "      <td>19</td>\n",
       "      <td>26</td>\n",
       "      <td>16500</td>\n",
       "    </tr>\n",
       "    <tr>\n",
       "      <th>3</th>\n",
       "      <td>2</td>\n",
       "      <td>164</td>\n",
       "      <td>audi</td>\n",
       "      <td>gas</td>\n",
       "      <td>sedan</td>\n",
       "      <td>fwd</td>\n",
       "      <td>front</td>\n",
       "      <td>66.2</td>\n",
       "      <td>54.3</td>\n",
       "      <td>ohc</td>\n",
       "      <td>109</td>\n",
       "      <td>102</td>\n",
       "      <td>24</td>\n",
       "      <td>30</td>\n",
       "      <td>13950</td>\n",
       "    </tr>\n",
       "    <tr>\n",
       "      <th>4</th>\n",
       "      <td>2</td>\n",
       "      <td>164</td>\n",
       "      <td>audi</td>\n",
       "      <td>gas</td>\n",
       "      <td>sedan</td>\n",
       "      <td>4wd</td>\n",
       "      <td>front</td>\n",
       "      <td>66.4</td>\n",
       "      <td>54.3</td>\n",
       "      <td>ohc</td>\n",
       "      <td>136</td>\n",
       "      <td>115</td>\n",
       "      <td>18</td>\n",
       "      <td>22</td>\n",
       "      <td>17450</td>\n",
       "    </tr>\n",
       "  </tbody>\n",
       "</table>\n",
       "</div>"
      ],
      "text/plain": [
       "   symboling normalized-losses         make fuel-type   body-style  \\\n",
       "0          3                 ?  alfa-romero       gas  convertible   \n",
       "1          3                 ?  alfa-romero       gas  convertible   \n",
       "2          1                 ?  alfa-romero       gas    hatchback   \n",
       "3          2               164         audi       gas        sedan   \n",
       "4          2               164         audi       gas        sedan   \n",
       "\n",
       "  drive-wheels engine-location  width  height engine-type  engine-size  \\\n",
       "0          rwd           front   64.1    48.8        dohc          130   \n",
       "1          rwd           front   64.1    48.8        dohc          130   \n",
       "2          rwd           front   65.5    52.4        ohcv          152   \n",
       "3          fwd           front   66.2    54.3         ohc          109   \n",
       "4          4wd           front   66.4    54.3         ohc          136   \n",
       "\n",
       "  horsepower  city-mpg  highway-mpg  price  \n",
       "0        111        21           27  13495  \n",
       "1        111        21           27  16500  \n",
       "2        154        19           26  16500  \n",
       "3        102        24           30  13950  \n",
       "4        115        18           22  17450  "
      ]
     },
     "execution_count": 3,
     "metadata": {},
     "output_type": "execute_result"
    }
   ],
   "source": [
    "data.head()"
   ]
  },
  {
   "cell_type": "code",
   "execution_count": 4,
   "id": "e9fe958e",
   "metadata": {},
   "outputs": [
    {
     "name": "stdout",
     "output_type": "stream",
     "text": [
      "<class 'pandas.core.frame.DataFrame'>\n",
      "RangeIndex: 205 entries, 0 to 204\n",
      "Data columns (total 15 columns):\n",
      " #   Column             Non-Null Count  Dtype  \n",
      "---  ------             --------------  -----  \n",
      " 0   symboling          205 non-null    int64  \n",
      " 1   normalized-losses  205 non-null    object \n",
      " 2   make               205 non-null    object \n",
      " 3   fuel-type          205 non-null    object \n",
      " 4   body-style         205 non-null    object \n",
      " 5   drive-wheels       205 non-null    object \n",
      " 6   engine-location    205 non-null    object \n",
      " 7   width              205 non-null    float64\n",
      " 8   height             205 non-null    float64\n",
      " 9   engine-type        205 non-null    object \n",
      " 10  engine-size        205 non-null    int64  \n",
      " 11  horsepower         205 non-null    object \n",
      " 12  city-mpg           205 non-null    int64  \n",
      " 13  highway-mpg        205 non-null    int64  \n",
      " 14  price              205 non-null    int64  \n",
      "dtypes: float64(2), int64(5), object(8)\n",
      "memory usage: 24.1+ KB\n"
     ]
    }
   ],
   "source": [
    "data.info()"
   ]
  },
  {
   "cell_type": "code",
   "execution_count": 5,
   "id": "faa2d908",
   "metadata": {},
   "outputs": [],
   "source": [
    "data.replace('?',np.nan,inplace=True)"
   ]
  },
  {
   "cell_type": "code",
   "execution_count": 6,
   "id": "1cfc9a2b",
   "metadata": {},
   "outputs": [
    {
     "data": {
      "text/plain": [
       "symboling             0\n",
       "normalized-losses    41\n",
       "make                  0\n",
       "fuel-type             0\n",
       "body-style            0\n",
       "drive-wheels          0\n",
       "engine-location       0\n",
       "width                 0\n",
       "height                0\n",
       "engine-type           0\n",
       "engine-size           0\n",
       "horsepower            2\n",
       "city-mpg              0\n",
       "highway-mpg           0\n",
       "price                 0\n",
       "dtype: int64"
      ]
     },
     "execution_count": 6,
     "metadata": {},
     "output_type": "execute_result"
    }
   ],
   "source": [
    "data.isna().sum()"
   ]
  },
  {
   "cell_type": "code",
   "execution_count": 7,
   "id": "7d8d9db1",
   "metadata": {},
   "outputs": [],
   "source": [
    "from sklearn.impute import SimpleImputer"
   ]
  },
  {
   "cell_type": "code",
   "execution_count": 8,
   "id": "bc3e84d6",
   "metadata": {},
   "outputs": [],
   "source": [
    "si = SimpleImputer(missing_values=np.nan, strategy='mean')"
   ]
  },
  {
   "cell_type": "code",
   "execution_count": 9,
   "id": "2aa25df9",
   "metadata": {},
   "outputs": [],
   "source": [
    "data.iloc[:,[1,11]] = si.fit_transform(data.iloc[:,[1,11]])"
   ]
  },
  {
   "cell_type": "code",
   "execution_count": 10,
   "id": "89259e3f",
   "metadata": {},
   "outputs": [
    {
     "data": {
      "text/plain": [
       "symboling            0\n",
       "normalized-losses    0\n",
       "make                 0\n",
       "fuel-type            0\n",
       "body-style           0\n",
       "drive-wheels         0\n",
       "engine-location      0\n",
       "width                0\n",
       "height               0\n",
       "engine-type          0\n",
       "engine-size          0\n",
       "horsepower           0\n",
       "city-mpg             0\n",
       "highway-mpg          0\n",
       "price                0\n",
       "dtype: int64"
      ]
     },
     "execution_count": 10,
     "metadata": {},
     "output_type": "execute_result"
    }
   ],
   "source": [
    "data.isnull().sum()"
   ]
  },
  {
   "cell_type": "code",
   "execution_count": 11,
   "id": "504ca9bd",
   "metadata": {},
   "outputs": [],
   "source": [
    "Input = data.iloc[:,:-1]\n",
    "Output = data.iloc[:,-1]"
   ]
  },
  {
   "cell_type": "code",
   "execution_count": 12,
   "id": "085b36ca",
   "metadata": {},
   "outputs": [
    {
     "data": {
      "image/png": "[encoded data removed]",
      "text/plain": [
       "<Figure size 1080x576 with 1 Axes>"
      ]
     },
     "metadata": {
      "needs_background": "light"
     },
     "output_type": "display_data"
    }
   ],
   "source": [
    "plt.figure(figsize=(15,8))\n",
    "sns.boxplot(data=Input, x=Output, y='make');\n",
    "plt.grid()\n"
   ]
  },
  {
   "cell_type": "code",
   "execution_count": 13,
   "id": "1edbb4be",
   "metadata": {},
   "outputs": [
    {
     "data": {
      "text/html": [
       "<div>\n",
       "<style scoped>\n",
       "    .dataframe tbody tr th:only-of-type {\n",
       "        vertical-align: middle;\n",
       "    }\n",
       "\n",
       "    .dataframe tbody tr th {\n",
       "        vertical-align: top;\n",
       "    }\n",
       "\n",
       "    .dataframe thead th {\n",
       "        text-align: right;\n",
       "    }\n",
       "</style>\n",
       "<table border=\"1\" class=\"dataframe\">\n",
       "  <thead>\n",
       "    <tr style=\"text-align: right;\">\n",
       "      <th></th>\n",
       "      <th>symboling</th>\n",
       "      <th>normalized-losses</th>\n",
       "      <th>make</th>\n",
       "      <th>fuel-type</th>\n",
       "      <th>body-style</th>\n",
       "      <th>drive-wheels</th>\n",
       "      <th>engine-location</th>\n",
       "      <th>width</th>\n",
       "      <th>height</th>\n",
       "      <th>engine-type</th>\n",
       "      <th>engine-size</th>\n",
       "      <th>horsepower</th>\n",
       "      <th>city-mpg</th>\n",
       "      <th>highway-mpg</th>\n",
       "    </tr>\n",
       "  </thead>\n",
       "  <tbody>\n",
       "    <tr>\n",
       "      <th>29</th>\n",
       "      <td>3</td>\n",
       "      <td>145.0</td>\n",
       "      <td>dodge</td>\n",
       "      <td>gas</td>\n",
       "      <td>hatchback</td>\n",
       "      <td>fwd</td>\n",
       "      <td>front</td>\n",
       "      <td>66.3</td>\n",
       "      <td>50.2</td>\n",
       "      <td>ohc</td>\n",
       "      <td>156</td>\n",
       "      <td>145.0</td>\n",
       "      <td>19</td>\n",
       "      <td>24</td>\n",
       "    </tr>\n",
       "  </tbody>\n",
       "</table>\n",
       "</div>"
      ],
      "text/plain": [
       "    symboling  normalized-losses   make fuel-type body-style drive-wheels  \\\n",
       "29          3              145.0  dodge       gas  hatchback          fwd   \n",
       "\n",
       "   engine-location  width  height engine-type  engine-size  horsepower  \\\n",
       "29           front   66.3    50.2         ohc          156       145.0   \n",
       "\n",
       "    city-mpg  highway-mpg  \n",
       "29        19           24  "
      ]
     },
     "execution_count": 13,
     "metadata": {},
     "output_type": "execute_result"
    }
   ],
   "source": [
    "Input[(Input.make=='dodge') & (Output>12000)]"
   ]
  },
  {
   "cell_type": "code",
   "execution_count": 14,
   "id": "c1f3fb8d",
   "metadata": {},
   "outputs": [],
   "source": [
    "Input.drop(29, axis=0, inplace=True)"
   ]
  },
  {
   "cell_type": "code",
   "execution_count": 15,
   "id": "8fd6e8e9",
   "metadata": {},
   "outputs": [
    {
     "data": {
      "text/html": [
       "<div>\n",
       "<style scoped>\n",
       "    .dataframe tbody tr th:only-of-type {\n",
       "        vertical-align: middle;\n",
       "    }\n",
       "\n",
       "    .dataframe tbody tr th {\n",
       "        vertical-align: top;\n",
       "    }\n",
       "\n",
       "    .dataframe thead th {\n",
       "        text-align: right;\n",
       "    }\n",
       "</style>\n",
       "<table border=\"1\" class=\"dataframe\">\n",
       "  <thead>\n",
       "    <tr style=\"text-align: right;\">\n",
       "      <th></th>\n",
       "      <th>symboling</th>\n",
       "      <th>normalized-losses</th>\n",
       "      <th>make</th>\n",
       "      <th>fuel-type</th>\n",
       "      <th>body-style</th>\n",
       "      <th>drive-wheels</th>\n",
       "      <th>engine-location</th>\n",
       "      <th>width</th>\n",
       "      <th>height</th>\n",
       "      <th>engine-type</th>\n",
       "      <th>engine-size</th>\n",
       "      <th>horsepower</th>\n",
       "      <th>city-mpg</th>\n",
       "      <th>highway-mpg</th>\n",
       "    </tr>\n",
       "  </thead>\n",
       "  <tbody>\n",
       "    <tr>\n",
       "      <th>45</th>\n",
       "      <td>0</td>\n",
       "      <td>122.0</td>\n",
       "      <td>isuzu</td>\n",
       "      <td>gas</td>\n",
       "      <td>sedan</td>\n",
       "      <td>fwd</td>\n",
       "      <td>front</td>\n",
       "      <td>63.6</td>\n",
       "      <td>52.0</td>\n",
       "      <td>ohc</td>\n",
       "      <td>90</td>\n",
       "      <td>70.0</td>\n",
       "      <td>38</td>\n",
       "      <td>43</td>\n",
       "    </tr>\n",
       "  </tbody>\n",
       "</table>\n",
       "</div>"
      ],
      "text/plain": [
       "    symboling  normalized-losses   make fuel-type body-style drive-wheels  \\\n",
       "45          0              122.0  isuzu       gas      sedan          fwd   \n",
       "\n",
       "   engine-location  width  height engine-type  engine-size  horsepower  \\\n",
       "45           front   63.6    52.0         ohc           90        70.0   \n",
       "\n",
       "    city-mpg  highway-mpg  \n",
       "45        38           43  "
      ]
     },
     "execution_count": 15,
     "metadata": {},
     "output_type": "execute_result"
    }
   ],
   "source": [
    "Input[(Input.make=='isuzu') & (Output>20000)]"
   ]
  },
  {
   "cell_type": "code",
   "execution_count": 16,
   "id": "7ed06602",
   "metadata": {},
   "outputs": [],
   "source": [
    "Input.drop(45, axis=0, inplace=True)"
   ]
  },
  {
   "cell_type": "code",
   "execution_count": 17,
   "id": "71abf1c1",
   "metadata": {},
   "outputs": [
    {
     "data": {
      "text/html": [
       "<div>\n",
       "<style scoped>\n",
       "    .dataframe tbody tr th:only-of-type {\n",
       "        vertical-align: middle;\n",
       "    }\n",
       "\n",
       "    .dataframe tbody tr th {\n",
       "        vertical-align: top;\n",
       "    }\n",
       "\n",
       "    .dataframe thead th {\n",
       "        text-align: right;\n",
       "    }\n",
       "</style>\n",
       "<table border=\"1\" class=\"dataframe\">\n",
       "  <thead>\n",
       "    <tr style=\"text-align: right;\">\n",
       "      <th></th>\n",
       "      <th>symboling</th>\n",
       "      <th>normalized-losses</th>\n",
       "      <th>width</th>\n",
       "      <th>height</th>\n",
       "      <th>engine-size</th>\n",
       "      <th>horsepower</th>\n",
       "      <th>city-mpg</th>\n",
       "      <th>highway-mpg</th>\n",
       "      <th>price</th>\n",
       "    </tr>\n",
       "  </thead>\n",
       "  <tbody>\n",
       "    <tr>\n",
       "      <th>count</th>\n",
       "      <td>205.000000</td>\n",
       "      <td>205.000000</td>\n",
       "      <td>205.000000</td>\n",
       "      <td>205.000000</td>\n",
       "      <td>205.000000</td>\n",
       "      <td>205.000000</td>\n",
       "      <td>205.000000</td>\n",
       "      <td>205.000000</td>\n",
       "      <td>205.000000</td>\n",
       "    </tr>\n",
       "    <tr>\n",
       "      <th>mean</th>\n",
       "      <td>0.834146</td>\n",
       "      <td>122.000000</td>\n",
       "      <td>65.907805</td>\n",
       "      <td>53.724878</td>\n",
       "      <td>126.907317</td>\n",
       "      <td>104.256158</td>\n",
       "      <td>25.219512</td>\n",
       "      <td>30.751220</td>\n",
       "      <td>13227.478049</td>\n",
       "    </tr>\n",
       "    <tr>\n",
       "      <th>std</th>\n",
       "      <td>1.245307</td>\n",
       "      <td>31.681008</td>\n",
       "      <td>2.145204</td>\n",
       "      <td>2.443522</td>\n",
       "      <td>41.642693</td>\n",
       "      <td>39.519211</td>\n",
       "      <td>6.542142</td>\n",
       "      <td>6.886443</td>\n",
       "      <td>7902.651615</td>\n",
       "    </tr>\n",
       "    <tr>\n",
       "      <th>min</th>\n",
       "      <td>-2.000000</td>\n",
       "      <td>65.000000</td>\n",
       "      <td>60.300000</td>\n",
       "      <td>47.800000</td>\n",
       "      <td>61.000000</td>\n",
       "      <td>48.000000</td>\n",
       "      <td>13.000000</td>\n",
       "      <td>16.000000</td>\n",
       "      <td>5118.000000</td>\n",
       "    </tr>\n",
       "    <tr>\n",
       "      <th>25%</th>\n",
       "      <td>0.000000</td>\n",
       "      <td>101.000000</td>\n",
       "      <td>64.100000</td>\n",
       "      <td>52.000000</td>\n",
       "      <td>97.000000</td>\n",
       "      <td>70.000000</td>\n",
       "      <td>19.000000</td>\n",
       "      <td>25.000000</td>\n",
       "      <td>7788.000000</td>\n",
       "    </tr>\n",
       "    <tr>\n",
       "      <th>50%</th>\n",
       "      <td>1.000000</td>\n",
       "      <td>122.000000</td>\n",
       "      <td>65.500000</td>\n",
       "      <td>54.100000</td>\n",
       "      <td>120.000000</td>\n",
       "      <td>95.000000</td>\n",
       "      <td>24.000000</td>\n",
       "      <td>30.000000</td>\n",
       "      <td>10345.000000</td>\n",
       "    </tr>\n",
       "    <tr>\n",
       "      <th>75%</th>\n",
       "      <td>2.000000</td>\n",
       "      <td>137.000000</td>\n",
       "      <td>66.900000</td>\n",
       "      <td>55.500000</td>\n",
       "      <td>141.000000</td>\n",
       "      <td>116.000000</td>\n",
       "      <td>30.000000</td>\n",
       "      <td>34.000000</td>\n",
       "      <td>16500.000000</td>\n",
       "    </tr>\n",
       "    <tr>\n",
       "      <th>max</th>\n",
       "      <td>3.000000</td>\n",
       "      <td>256.000000</td>\n",
       "      <td>72.300000</td>\n",
       "      <td>59.800000</td>\n",
       "      <td>326.000000</td>\n",
       "      <td>288.000000</td>\n",
       "      <td>49.000000</td>\n",
       "      <td>54.000000</td>\n",
       "      <td>45400.000000</td>\n",
       "    </tr>\n",
       "  </tbody>\n",
       "</table>\n",
       "</div>"
      ],
      "text/plain": [
       "        symboling  normalized-losses       width      height  engine-size  \\\n",
       "count  205.000000         205.000000  205.000000  205.000000   205.000000   \n",
       "mean     0.834146         122.000000   65.907805   53.724878   126.907317   \n",
       "std      1.245307          31.681008    2.145204    2.443522    41.642693   \n",
       "min     -2.000000          65.000000   60.300000   47.800000    61.000000   \n",
       "25%      0.000000         101.000000   64.100000   52.000000    97.000000   \n",
       "50%      1.000000         122.000000   65.500000   54.100000   120.000000   \n",
       "75%      2.000000         137.000000   66.900000   55.500000   141.000000   \n",
       "max      3.000000         256.000000   72.300000   59.800000   326.000000   \n",
       "\n",
       "       horsepower    city-mpg  highway-mpg         price  \n",
       "count  205.000000  205.000000   205.000000    205.000000  \n",
       "mean   104.256158   25.219512    30.751220  13227.478049  \n",
       "std     39.519211    6.542142     6.886443   7902.651615  \n",
       "min     48.000000   13.000000    16.000000   5118.000000  \n",
       "25%     70.000000   19.000000    25.000000   7788.000000  \n",
       "50%     95.000000   24.000000    30.000000  10345.000000  \n",
       "75%    116.000000   30.000000    34.000000  16500.000000  \n",
       "max    288.000000   49.000000    54.000000  45400.000000  "
      ]
     },
     "execution_count": 17,
     "metadata": {},
     "output_type": "execute_result"
    }
   ],
   "source": [
    "data.describe()"
   ]
  },
  {
   "cell_type": "code",
   "execution_count": 18,
   "id": "8d7e80a8",
   "metadata": {},
   "outputs": [],
   "source": [
    "from scipy.stats import skew"
   ]
  },
  {
   "cell_type": "code",
   "execution_count": 19,
   "id": "c8d64f2e",
   "metadata": {},
   "outputs": [],
   "source": [
    "numcol = Input.select_dtypes(['int64','float64']).columns"
   ]
  },
  {
   "cell_type": "code",
   "execution_count": 20,
   "id": "a2ec27b5",
   "metadata": {},
   "outputs": [
    {
     "data": {
      "text/plain": [
       "Index(['symboling', 'normalized-losses', 'width', 'height', 'engine-size',\n",
       "       'horsepower', 'city-mpg', 'highway-mpg'],\n",
       "      dtype='object')"
      ]
     },
     "execution_count": 20,
     "metadata": {},
     "output_type": "execute_result"
    }
   ],
   "source": [
    "numcol"
   ]
  },
  {
   "cell_type": "code",
   "execution_count": 21,
   "id": "b706cb63",
   "metadata": {},
   "outputs": [
    {
     "name": "stdout",
     "output_type": "stream",
     "text": [
      "symboling\n",
      "0.20496147298318457\n"
     ]
    },
    {
     "data": {
      "image/png": "[encoded data removed]",
      "text/plain": [
       "<Figure size 432x288 with 1 Axes>"
      ]
     },
     "metadata": {
      "needs_background": "light"
     },
     "output_type": "display_data"
    },
    {
     "name": "stdout",
     "output_type": "stream",
     "text": [
      "normalized-losses\n",
      "0.8565228357351885\n"
     ]
    },
    {
     "data": {
      "image/png": "[encoded data removed]",
      "text/plain": [
       "<Figure size 432x288 with 1 Axes>"
      ]
     },
     "metadata": {
      "needs_background": "light"
     },
     "output_type": "display_data"
    },
    {
     "name": "stdout",
     "output_type": "stream",
     "text": [
      "width\n",
      "0.8937983893148329\n"
     ]
    },
    {
     "data": {
      "image/png": "[encoded data removed]",
      "text/plain": [
       "<Figure size 432x288 with 1 Axes>"
      ]
     },
     "metadata": {
      "needs_background": "light"
     },
     "output_type": "display_data"
    },
    {
     "name": "stdout",
     "output_type": "stream",
     "text": [
      "height\n",
      "0.04840569764937612\n"
     ]
    },
    {
     "data": {
      "image/png": "[encoded data removed]",
      "text/plain": [
       "<Figure size 432x288 with 1 Axes>"
      ]
     },
     "metadata": {
      "needs_background": "light"
     },
     "output_type": "display_data"
    },
    {
     "name": "stdout",
     "output_type": "stream",
     "text": [
      "engine-size\n",
      "1.9410595463554836\n"
     ]
    },
    {
     "data": {
      "image/png": "[encoded data removed]",
      "text/plain": [
       "<Figure size 432x288 with 1 Axes>"
      ]
     },
     "metadata": {
      "needs_background": "light"
     },
     "output_type": "display_data"
    },
    {
     "name": "stdout",
     "output_type": "stream",
     "text": [
      "horsepower\n",
      "1.399585587831228\n"
     ]
    },
    {
     "data": {
      "image/png": "[encoded data removed]",
      "text/plain": [
       "<Figure size 432x288 with 1 Axes>"
      ]
     },
     "metadata": {
      "needs_background": "light"
     },
     "output_type": "display_data"
    },
    {
     "name": "stdout",
     "output_type": "stream",
     "text": [
      "city-mpg\n",
      "0.6606215321859766\n"
     ]
    },
    {
     "data": {
      "image/png": "[encoded data removed]",
      "text/plain": [
       "<Figure size 432x288 with 1 Axes>"
      ]
     },
     "metadata": {
      "needs_background": "light"
     },
     "output_type": "display_data"
    },
    {
     "name": "stdout",
     "output_type": "stream",
     "text": [
      "highway-mpg\n",
      "0.5382939311121927\n"
     ]
    },
    {
     "data": {
      "image/png": "[encoded data removed]",
      "text/plain": [
       "<Figure size 432x288 with 1 Axes>"
      ]
     },
     "metadata": {
      "needs_background": "light"
     },
     "output_type": "display_data"
    }
   ],
   "source": [
    "for column in Input[numcol]:\n",
    "    print(column)\n",
    "    print(skew(Input[column]))\n",
    "    plt.figure()\n",
    "    sns.distplot(Input[column])\n",
    "    plt.show()"
   ]
  },
  {
   "cell_type": "code",
   "execution_count": 28,
   "id": "ada9baa2",
   "metadata": {},
   "outputs": [
    {
     "data": {
      "text/html": [
       "<style type=\"text/css\">\n",
       "#T_3c4d2_row0_col0, #T_3c4d2_row1_col1, #T_3c4d2_row2_col2, #T_3c4d2_row3_col3, #T_3c4d2_row4_col4, #T_3c4d2_row5_col5, #T_3c4d2_row6_col6, #T_3c4d2_row7_col7, #T_3c4d2_row8_col8 {\n",
       "  background-color: #023858;\n",
       "  color: #f1f1f1;\n",
       "}\n",
       "#T_3c4d2_row0_col1 {\n",
       "  background-color: #3d93c2;\n",
       "  color: #f1f1f1;\n",
       "}\n",
       "#T_3c4d2_row0_col2 {\n",
       "  background-color: #cccfe5;\n",
       "  color: #000000;\n",
       "}\n",
       "#T_3c4d2_row0_col3, #T_3c4d2_row3_col0, #T_3c4d2_row3_col1, #T_3c4d2_row5_col6, #T_3c4d2_row5_col7, #T_3c4d2_row6_col5, #T_3c4d2_row7_col2, #T_3c4d2_row7_col4, #T_3c4d2_row7_col8 {\n",
       "  background-color: #fff7fb;\n",
       "  color: #000000;\n",
       "}\n",
       "#T_3c4d2_row0_col4 {\n",
       "  background-color: #b1c2de;\n",
       "  color: #000000;\n",
       "}\n",
       "#T_3c4d2_row0_col5 {\n",
       "  background-color: #79abd0;\n",
       "  color: #f1f1f1;\n",
       "}\n",
       "#T_3c4d2_row0_col6 {\n",
       "  background-color: #93b5d6;\n",
       "  color: #000000;\n",
       "}\n",
       "#T_3c4d2_row0_col7, #T_3c4d2_row1_col2 {\n",
       "  background-color: #86b0d3;\n",
       "  color: #000000;\n",
       "}\n",
       "#T_3c4d2_row0_col8 {\n",
       "  background-color: #adc1dd;\n",
       "  color: #000000;\n",
       "}\n",
       "#T_3c4d2_row1_col0 {\n",
       "  background-color: #2a88bc;\n",
       "  color: #f1f1f1;\n",
       "}\n",
       "#T_3c4d2_row1_col3, #T_3c4d2_row6_col1 {\n",
       "  background-color: #eee9f3;\n",
       "  color: #000000;\n",
       "}\n",
       "#T_3c4d2_row1_col4 {\n",
       "  background-color: #80aed2;\n",
       "  color: #f1f1f1;\n",
       "}\n",
       "#T_3c4d2_row1_col5 {\n",
       "  background-color: #589ec8;\n",
       "  color: #f1f1f1;\n",
       "}\n",
       "#T_3c4d2_row1_col6 {\n",
       "  background-color: #b8c6e0;\n",
       "  color: #000000;\n",
       "}\n",
       "#T_3c4d2_row1_col7 {\n",
       "  background-color: #b4c4df;\n",
       "  color: #000000;\n",
       "}\n",
       "#T_3c4d2_row1_col8, #T_3c4d2_row3_col8 {\n",
       "  background-color: #7bacd1;\n",
       "  color: #f1f1f1;\n",
       "}\n",
       "#T_3c4d2_row2_col0 {\n",
       "  background-color: #dbdaeb;\n",
       "  color: #000000;\n",
       "}\n",
       "#T_3c4d2_row2_col1 {\n",
       "  background-color: #b5c4df;\n",
       "  color: #000000;\n",
       "}\n",
       "#T_3c4d2_row2_col3 {\n",
       "  background-color: #63a2cb;\n",
       "  color: #f1f1f1;\n",
       "}\n",
       "#T_3c4d2_row2_col4, #T_3c4d2_row4_col2 {\n",
       "  background-color: #046096;\n",
       "  color: #f1f1f1;\n",
       "}\n",
       "#T_3c4d2_row2_col5 {\n",
       "  background-color: #0567a1;\n",
       "  color: #f1f1f1;\n",
       "}\n",
       "#T_3c4d2_row2_col6, #T_3c4d2_row4_col6, #T_3c4d2_row8_col6 {\n",
       "  background-color: #f2ecf5;\n",
       "  color: #000000;\n",
       "}\n",
       "#T_3c4d2_row2_col7, #T_3c4d2_row4_col7, #T_3c4d2_row8_col7 {\n",
       "  background-color: #f7f0f7;\n",
       "  color: #000000;\n",
       "}\n",
       "#T_3c4d2_row2_col8 {\n",
       "  background-color: #046198;\n",
       "  color: #f1f1f1;\n",
       "}\n",
       "#T_3c4d2_row3_col2 {\n",
       "  background-color: #529bc7;\n",
       "  color: #f1f1f1;\n",
       "}\n",
       "#T_3c4d2_row3_col4 {\n",
       "  background-color: #8bb2d4;\n",
       "  color: #000000;\n",
       "}\n",
       "#T_3c4d2_row3_col5 {\n",
       "  background-color: #a2bcda;\n",
       "  color: #000000;\n",
       "}\n",
       "#T_3c4d2_row3_col6, #T_3c4d2_row5_col1 {\n",
       "  background-color: #94b6d7;\n",
       "  color: #000000;\n",
       "}\n",
       "#T_3c4d2_row3_col7, #T_3c4d2_row7_col0 {\n",
       "  background-color: #a7bddb;\n",
       "  color: #000000;\n",
       "}\n",
       "#T_3c4d2_row4_col0, #T_3c4d2_row7_col3 {\n",
       "  background-color: #c5cce3;\n",
       "  color: #000000;\n",
       "}\n",
       "#T_3c4d2_row4_col1 {\n",
       "  background-color: #afc1dd;\n",
       "  color: #000000;\n",
       "}\n",
       "#T_3c4d2_row4_col3, #T_3c4d2_row5_col0 {\n",
       "  background-color: #9ebad9;\n",
       "  color: #000000;\n",
       "}\n",
       "#T_3c4d2_row4_col5 {\n",
       "  background-color: #045483;\n",
       "  color: #f1f1f1;\n",
       "}\n",
       "#T_3c4d2_row4_col8, #T_3c4d2_row8_col4 {\n",
       "  background-color: #034f7d;\n",
       "  color: #f1f1f1;\n",
       "}\n",
       "#T_3c4d2_row5_col2 {\n",
       "  background-color: #0569a5;\n",
       "  color: #f1f1f1;\n",
       "}\n",
       "#T_3c4d2_row5_col3 {\n",
       "  background-color: #c6cce3;\n",
       "  color: #000000;\n",
       "}\n",
       "#T_3c4d2_row5_col4 {\n",
       "  background-color: #045687;\n",
       "  color: #f1f1f1;\n",
       "}\n",
       "#T_3c4d2_row5_col8 {\n",
       "  background-color: #045e94;\n",
       "  color: #f1f1f1;\n",
       "}\n",
       "#T_3c4d2_row6_col0 {\n",
       "  background-color: #b7c5df;\n",
       "  color: #000000;\n",
       "}\n",
       "#T_3c4d2_row6_col2 {\n",
       "  background-color: #fcf4fa;\n",
       "  color: #000000;\n",
       "}\n",
       "#T_3c4d2_row6_col3 {\n",
       "  background-color: #b9c6e0;\n",
       "  color: #000000;\n",
       "}\n",
       "#T_3c4d2_row6_col4, #T_3c4d2_row6_col8, #T_3c4d2_row7_col5 {\n",
       "  background-color: #fdf5fa;\n",
       "  color: #000000;\n",
       "}\n",
       "#T_3c4d2_row6_col7, #T_3c4d2_row7_col6 {\n",
       "  background-color: #023c5f;\n",
       "  color: #f1f1f1;\n",
       "}\n",
       "#T_3c4d2_row7_col1 {\n",
       "  background-color: #e9e5f1;\n",
       "  color: #000000;\n",
       "}\n",
       "#T_3c4d2_row8_col0 {\n",
       "  background-color: #c1cae2;\n",
       "  color: #000000;\n",
       "}\n",
       "#T_3c4d2_row8_col1 {\n",
       "  background-color: #a8bedc;\n",
       "  color: #000000;\n",
       "}\n",
       "#T_3c4d2_row8_col2 {\n",
       "  background-color: #046299;\n",
       "  color: #f1f1f1;\n",
       "}\n",
       "#T_3c4d2_row8_col3 {\n",
       "  background-color: #8eb3d5;\n",
       "  color: #000000;\n",
       "}\n",
       "#T_3c4d2_row8_col5 {\n",
       "  background-color: #045c90;\n",
       "  color: #f1f1f1;\n",
       "}\n",
       "</style>\n",
       "<table id=\"T_3c4d2_\">\n",
       "  <thead>\n",
       "    <tr>\n",
       "      <th class=\"blank level0\" >&nbsp;</th>\n",
       "      <th class=\"col_heading level0 col0\" >symboling</th>\n",
       "      <th class=\"col_heading level0 col1\" >normalized-losses</th>\n",
       "      <th class=\"col_heading level0 col2\" >width</th>\n",
       "      <th class=\"col_heading level0 col3\" >height</th>\n",
       "      <th class=\"col_heading level0 col4\" >engine-size</th>\n",
       "      <th class=\"col_heading level0 col5\" >horsepower</th>\n",
       "      <th class=\"col_heading level0 col6\" >city-mpg</th>\n",
       "      <th class=\"col_heading level0 col7\" >highway-mpg</th>\n",
       "      <th class=\"col_heading level0 col8\" >price</th>\n",
       "    </tr>\n",
       "  </thead>\n",
       "  <tbody>\n",
       "    <tr>\n",
       "      <th id=\"T_3c4d2_level0_row0\" class=\"row_heading level0 row0\" >symboling</th>\n",
       "      <td id=\"T_3c4d2_row0_col0\" class=\"data row0 col0\" >1.000000</td>\n",
       "      <td id=\"T_3c4d2_row0_col1\" class=\"data row0 col1\" >0.465190</td>\n",
       "      <td id=\"T_3c4d2_row0_col2\" class=\"data row0 col2\" >-0.232919</td>\n",
       "      <td id=\"T_3c4d2_row0_col3\" class=\"data row0 col3\" >-0.541038</td>\n",
       "      <td id=\"T_3c4d2_row0_col4\" class=\"data row0 col4\" >-0.105790</td>\n",
       "      <td id=\"T_3c4d2_row0_col5\" class=\"data row0 col5\" >0.071389</td>\n",
       "      <td id=\"T_3c4d2_row0_col6\" class=\"data row0 col6\" >-0.035823</td>\n",
       "      <td id=\"T_3c4d2_row0_col7\" class=\"data row0 col7\" >0.034606</td>\n",
       "      <td id=\"T_3c4d2_row0_col8\" class=\"data row0 col8\" >-0.085781</td>\n",
       "    </tr>\n",
       "    <tr>\n",
       "      <th id=\"T_3c4d2_level0_row1\" class=\"row_heading level0 row1\" >normalized-losses</th>\n",
       "      <td id=\"T_3c4d2_row1_col0\" class=\"data row1 col0\" >0.465190</td>\n",
       "      <td id=\"T_3c4d2_row1_col1\" class=\"data row1 col1\" >1.000000</td>\n",
       "      <td id=\"T_3c4d2_row1_col2\" class=\"data row1 col2\" >0.084195</td>\n",
       "      <td id=\"T_3c4d2_row1_col3\" class=\"data row1 col3\" >-0.370706</td>\n",
       "      <td id=\"T_3c4d2_row1_col4\" class=\"data row1 col4\" >0.110997</td>\n",
       "      <td id=\"T_3c4d2_row1_col5\" class=\"data row1 col5\" >0.203434</td>\n",
       "      <td id=\"T_3c4d2_row1_col6\" class=\"data row1 col6\" >-0.218749</td>\n",
       "      <td id=\"T_3c4d2_row1_col7\" class=\"data row1 col7\" >-0.178221</td>\n",
       "      <td id=\"T_3c4d2_row1_col8\" class=\"data row1 col8\" >0.133424</td>\n",
       "    </tr>\n",
       "    <tr>\n",
       "      <th id=\"T_3c4d2_level0_row2\" class=\"row_heading level0 row2\" >width</th>\n",
       "      <td id=\"T_3c4d2_row2_col0\" class=\"data row2 col0\" >-0.232919</td>\n",
       "      <td id=\"T_3c4d2_row2_col1\" class=\"data row2 col1\" >0.084195</td>\n",
       "      <td id=\"T_3c4d2_row2_col2\" class=\"data row2 col2\" >1.000000</td>\n",
       "      <td id=\"T_3c4d2_row2_col3\" class=\"data row2 col3\" >0.279210</td>\n",
       "      <td id=\"T_3c4d2_row2_col4\" class=\"data row2 col4\" >0.735433</td>\n",
       "      <td id=\"T_3c4d2_row2_col5\" class=\"data row2 col5\" >0.642195</td>\n",
       "      <td id=\"T_3c4d2_row2_col6\" class=\"data row2 col6\" >-0.642704</td>\n",
       "      <td id=\"T_3c4d2_row2_col7\" class=\"data row2 col7\" >-0.677218</td>\n",
       "      <td id=\"T_3c4d2_row2_col8\" class=\"data row2 col8\" >0.718253</td>\n",
       "    </tr>\n",
       "    <tr>\n",
       "      <th id=\"T_3c4d2_level0_row3\" class=\"row_heading level0 row3\" >height</th>\n",
       "      <td id=\"T_3c4d2_row3_col0\" class=\"data row3 col0\" >-0.541038</td>\n",
       "      <td id=\"T_3c4d2_row3_col1\" class=\"data row3 col1\" >-0.370706</td>\n",
       "      <td id=\"T_3c4d2_row3_col2\" class=\"data row3 col2\" >0.279210</td>\n",
       "      <td id=\"T_3c4d2_row3_col3\" class=\"data row3 col3\" >1.000000</td>\n",
       "      <td id=\"T_3c4d2_row3_col4\" class=\"data row3 col4\" >0.067149</td>\n",
       "      <td id=\"T_3c4d2_row3_col5\" class=\"data row3 col5\" >-0.110137</td>\n",
       "      <td id=\"T_3c4d2_row3_col6\" class=\"data row3 col6\" >-0.048640</td>\n",
       "      <td id=\"T_3c4d2_row3_col7\" class=\"data row3 col7\" >-0.107358</td>\n",
       "      <td id=\"T_3c4d2_row3_col8\" class=\"data row3 col8\" >0.132444</td>\n",
       "    </tr>\n",
       "    <tr>\n",
       "      <th id=\"T_3c4d2_level0_row4\" class=\"row_heading level0 row4\" >engine-size</th>\n",
       "      <td id=\"T_3c4d2_row4_col0\" class=\"data row4 col0\" >-0.105790</td>\n",
       "      <td id=\"T_3c4d2_row4_col1\" class=\"data row4 col1\" >0.110997</td>\n",
       "      <td id=\"T_3c4d2_row4_col2\" class=\"data row4 col2\" >0.735433</td>\n",
       "      <td id=\"T_3c4d2_row4_col3\" class=\"data row4 col3\" >0.067149</td>\n",
       "      <td id=\"T_3c4d2_row4_col4\" class=\"data row4 col4\" >1.000000</td>\n",
       "      <td id=\"T_3c4d2_row4_col5\" class=\"data row4 col5\" >0.810713</td>\n",
       "      <td id=\"T_3c4d2_row4_col6\" class=\"data row4 col6\" >-0.653658</td>\n",
       "      <td id=\"T_3c4d2_row4_col7\" class=\"data row4 col7\" >-0.677470</td>\n",
       "      <td id=\"T_3c4d2_row4_col8\" class=\"data row4 col8\" >0.852995</td>\n",
       "    </tr>\n",
       "    <tr>\n",
       "      <th id=\"T_3c4d2_level0_row5\" class=\"row_heading level0 row5\" >horsepower</th>\n",
       "      <td id=\"T_3c4d2_row5_col0\" class=\"data row5 col0\" >0.071389</td>\n",
       "      <td id=\"T_3c4d2_row5_col1\" class=\"data row5 col1\" >0.203434</td>\n",
       "      <td id=\"T_3c4d2_row5_col2\" class=\"data row5 col2\" >0.642195</td>\n",
       "      <td id=\"T_3c4d2_row5_col3\" class=\"data row5 col3\" >-0.110137</td>\n",
       "      <td id=\"T_3c4d2_row5_col4\" class=\"data row5 col4\" >0.810713</td>\n",
       "      <td id=\"T_3c4d2_row5_col5\" class=\"data row5 col5\" >1.000000</td>\n",
       "      <td id=\"T_3c4d2_row5_col6\" class=\"data row5 col6\" >-0.803162</td>\n",
       "      <td id=\"T_3c4d2_row5_col7\" class=\"data row5 col7\" >-0.770903</td>\n",
       "      <td id=\"T_3c4d2_row5_col8\" class=\"data row5 col8\" >0.746589</td>\n",
       "    </tr>\n",
       "    <tr>\n",
       "      <th id=\"T_3c4d2_level0_row6\" class=\"row_heading level0 row6\" >city-mpg</th>\n",
       "      <td id=\"T_3c4d2_row6_col0\" class=\"data row6 col0\" >-0.035823</td>\n",
       "      <td id=\"T_3c4d2_row6_col1\" class=\"data row6 col1\" >-0.218749</td>\n",
       "      <td id=\"T_3c4d2_row6_col2\" class=\"data row6 col2\" >-0.642704</td>\n",
       "      <td id=\"T_3c4d2_row6_col3\" class=\"data row6 col3\" >-0.048640</td>\n",
       "      <td id=\"T_3c4d2_row6_col4\" class=\"data row6 col4\" >-0.653658</td>\n",
       "      <td id=\"T_3c4d2_row6_col5\" class=\"data row6 col5\" >-0.803162</td>\n",
       "      <td id=\"T_3c4d2_row6_col6\" class=\"data row6 col6\" >1.000000</td>\n",
       "      <td id=\"T_3c4d2_row6_col7\" class=\"data row6 col7\" >0.971337</td>\n",
       "      <td id=\"T_3c4d2_row6_col8\" class=\"data row6 col8\" >-0.654611</td>\n",
       "    </tr>\n",
       "    <tr>\n",
       "      <th id=\"T_3c4d2_level0_row7\" class=\"row_heading level0 row7\" >highway-mpg</th>\n",
       "      <td id=\"T_3c4d2_row7_col0\" class=\"data row7 col0\" >0.034606</td>\n",
       "      <td id=\"T_3c4d2_row7_col1\" class=\"data row7 col1\" >-0.178221</td>\n",
       "      <td id=\"T_3c4d2_row7_col2\" class=\"data row7 col2\" >-0.677218</td>\n",
       "      <td id=\"T_3c4d2_row7_col3\" class=\"data row7 col3\" >-0.107358</td>\n",
       "      <td id=\"T_3c4d2_row7_col4\" class=\"data row7 col4\" >-0.677470</td>\n",
       "      <td id=\"T_3c4d2_row7_col5\" class=\"data row7 col5\" >-0.770903</td>\n",
       "      <td id=\"T_3c4d2_row7_col6\" class=\"data row7 col6\" >0.971337</td>\n",
       "      <td id=\"T_3c4d2_row7_col7\" class=\"data row7 col7\" >1.000000</td>\n",
       "      <td id=\"T_3c4d2_row7_col8\" class=\"data row7 col8\" >-0.679048</td>\n",
       "    </tr>\n",
       "    <tr>\n",
       "      <th id=\"T_3c4d2_level0_row8\" class=\"row_heading level0 row8\" >price</th>\n",
       "      <td id=\"T_3c4d2_row8_col0\" class=\"data row8 col0\" >-0.085781</td>\n",
       "      <td id=\"T_3c4d2_row8_col1\" class=\"data row8 col1\" >0.133424</td>\n",
       "      <td id=\"T_3c4d2_row8_col2\" class=\"data row8 col2\" >0.718253</td>\n",
       "      <td id=\"T_3c4d2_row8_col3\" class=\"data row8 col3\" >0.132444</td>\n",
       "      <td id=\"T_3c4d2_row8_col4\" class=\"data row8 col4\" >0.852995</td>\n",
       "      <td id=\"T_3c4d2_row8_col5\" class=\"data row8 col5\" >0.746589</td>\n",
       "      <td id=\"T_3c4d2_row8_col6\" class=\"data row8 col6\" >-0.654611</td>\n",
       "      <td id=\"T_3c4d2_row8_col7\" class=\"data row8 col7\" >-0.679048</td>\n",
       "      <td id=\"T_3c4d2_row8_col8\" class=\"data row8 col8\" >1.000000</td>\n",
       "    </tr>\n",
       "  </tbody>\n",
       "</table>\n"
      ],
      "text/plain": [
       "<pandas.io.formats.style.Styler at 0x1a455b567f0>"
      ]
     },
     "execution_count": 28,
     "metadata": {},
     "output_type": "execute_result"
    }
   ],
   "source": [
    "data.corr().style.background_gradient()"
   ]
  },
  {
   "cell_type": "code",
   "execution_count": 29,
   "id": "ebf47048",
   "metadata": {},
   "outputs": [
    {
     "data": {
      "text/plain": [
       "symboling           -0.085781\n",
       "normalized-losses    0.133424\n",
       "width                0.718253\n",
       "height               0.132444\n",
       "engine-size          0.852995\n",
       "horsepower           0.746589\n",
       "city-mpg            -0.654611\n",
       "highway-mpg         -0.679048\n",
       "price                1.000000\n",
       "Name: price, dtype: float64"
      ]
     },
     "execution_count": 29,
     "metadata": {},
     "output_type": "execute_result"
    }
   ],
   "source": [
    "data.corr()['price']"
   ]
  },
  {
   "cell_type": "code",
   "execution_count": 31,
   "id": "a95051f2",
   "metadata": {},
   "outputs": [
    {
     "data": {
      "text/plain": [
       "array([0.06265992, 0.84853487])"
      ]
     },
     "execution_count": 31,
     "metadata": {},
     "output_type": "execute_result"
    }
   ],
   "source": [
    "skew(data[['height','normalized-losses']])"
   ]
  },
  {
   "cell_type": "code",
   "execution_count": 32,
   "id": "7a13db8e",
   "metadata": {},
   "outputs": [],
   "source": [
    "a = np.log(data['normalized-losses'])"
   ]
  },
  {
   "cell_type": "code",
   "execution_count": 34,
   "id": "572edd12",
   "metadata": {},
   "outputs": [
    {
     "data": {
      "text/plain": [
       "0.03137735337911685"
      ]
     },
     "execution_count": 34,
     "metadata": {},
     "output_type": "execute_result"
    }
   ],
   "source": [
    "skew(a)"
   ]
  },
  {
   "cell_type": "code",
   "execution_count": 36,
   "id": "9540d6b2",
   "metadata": {},
   "outputs": [],
   "source": [
    "b = np.sqrt(data['normalized-losses'])"
   ]
  },
  {
   "cell_type": "code",
   "execution_count": 37,
   "id": "262a33db",
   "metadata": {},
   "outputs": [
    {
     "data": {
      "text/plain": [
       "0.423806868842261"
      ]
     },
     "execution_count": 37,
     "metadata": {},
     "output_type": "execute_result"
    }
   ],
   "source": [
    "skew(b)"
   ]
  },
  {
   "cell_type": "code",
   "execution_count": null,
   "id": "255461a9",
   "metadata": {},
   "outputs": [],
   "source": []
  }
 ],
 "metadata": {
  "kernelspec": {
   "display_name": "Python 3",
   "language": "python",
   "name": "python3"
  },
  "language_info": {
   "codemirror_mode": {
    "name": "ipython",
    "version": 3
   },
   "file_extension": ".py",
   "mimetype": "text/x-python",
   "name": "python",
   "nbconvert_exporter": "python",
   "pygments_lexer": "ipython3",
   "version": "3.11.0 (v3.11.0:deaf509e8f, Oct 24 2022, 14:43:23) [Clang 13.0.0 (clang-1300.0.29.30)]"
  },
  "vscode": {
   "interpreter": {
    "hash": "aee8b7b246df8f9039afb4144a1f6fd8d2ca17a180786b69acc140d282b71a49"
   }
  }
 },
 "nbformat": 4,
 "nbformat_minor": 5
}
